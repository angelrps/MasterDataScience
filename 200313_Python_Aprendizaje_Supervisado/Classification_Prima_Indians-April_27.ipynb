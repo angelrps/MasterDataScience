{
 "cells": [
  {
   "cell_type": "markdown",
   "metadata": {},
   "source": [
    "## The Data: Pima Indian Classification"
   ]
  },
  {
   "cell_type": "markdown",
   "metadata": {},
   "source": [
    "### Problem statement \n",
    "Using the UCI PIMA Indian Diabetes dataset to predict a person has diabetes or not using the medical attributes provided. (Target is column 8)\n",
    "\n",
    "### Assumptions\n",
    "\n",
    "This is enough data to split and reliably predict if the patient has diabetes, the dataset has only 786 data points\n",
    "Just these attributes are enough to diagnose the ailment\n",
    "Similar Problems \n",
    "This is very much like some common 2 class classification problems like classifying mail into spam and ham based on the contents of the email. Obviously the attributes there would be strings and not numbers like this dataset, therefore the way in which we process at least some of the features will be different."
   ]
  },
  {
   "cell_type": "code",
   "execution_count": 1,
   "metadata": {},
   "outputs": [
    {
     "name": "stdout",
     "output_type": "stream",
     "text": [
      "Populating the interactive namespace from numpy and matplotlib\n"
     ]
    }
   ],
   "source": [
    "import pandas as pd\n",
    "%pylab inline"
   ]
  },
  {
   "cell_type": "code",
   "execution_count": 2,
   "metadata": {},
   "outputs": [],
   "source": [
    "df = pd.read_csv(\"diabetes.csv\")"
   ]
  },
  {
   "cell_type": "code",
   "execution_count": 3,
   "metadata": {},
   "outputs": [
    {
     "data": {
      "text/html": [
       "<div>\n",
       "<style scoped>\n",
       "    .dataframe tbody tr th:only-of-type {\n",
       "        vertical-align: middle;\n",
       "    }\n",
       "\n",
       "    .dataframe tbody tr th {\n",
       "        vertical-align: top;\n",
       "    }\n",
       "\n",
       "    .dataframe thead th {\n",
       "        text-align: right;\n",
       "    }\n",
       "</style>\n",
       "<table border=\"1\" class=\"dataframe\">\n",
       "  <thead>\n",
       "    <tr style=\"text-align: right;\">\n",
       "      <th></th>\n",
       "      <th>Pregnancies</th>\n",
       "      <th>Glucose</th>\n",
       "      <th>BloodPressure</th>\n",
       "      <th>SkinThickness</th>\n",
       "      <th>Insulin</th>\n",
       "      <th>BMI</th>\n",
       "      <th>DiabetesPedigreeFunction</th>\n",
       "      <th>Age</th>\n",
       "      <th>Outcome</th>\n",
       "    </tr>\n",
       "  </thead>\n",
       "  <tbody>\n",
       "    <tr>\n",
       "      <td>0</td>\n",
       "      <td>6</td>\n",
       "      <td>148</td>\n",
       "      <td>72</td>\n",
       "      <td>35</td>\n",
       "      <td>0</td>\n",
       "      <td>33.6</td>\n",
       "      <td>0.627</td>\n",
       "      <td>50</td>\n",
       "      <td>1</td>\n",
       "    </tr>\n",
       "    <tr>\n",
       "      <td>1</td>\n",
       "      <td>1</td>\n",
       "      <td>85</td>\n",
       "      <td>66</td>\n",
       "      <td>29</td>\n",
       "      <td>0</td>\n",
       "      <td>26.6</td>\n",
       "      <td>0.351</td>\n",
       "      <td>31</td>\n",
       "      <td>0</td>\n",
       "    </tr>\n",
       "    <tr>\n",
       "      <td>2</td>\n",
       "      <td>8</td>\n",
       "      <td>183</td>\n",
       "      <td>64</td>\n",
       "      <td>0</td>\n",
       "      <td>0</td>\n",
       "      <td>23.3</td>\n",
       "      <td>0.672</td>\n",
       "      <td>32</td>\n",
       "      <td>1</td>\n",
       "    </tr>\n",
       "    <tr>\n",
       "      <td>3</td>\n",
       "      <td>1</td>\n",
       "      <td>89</td>\n",
       "      <td>66</td>\n",
       "      <td>23</td>\n",
       "      <td>94</td>\n",
       "      <td>28.1</td>\n",
       "      <td>0.167</td>\n",
       "      <td>21</td>\n",
       "      <td>0</td>\n",
       "    </tr>\n",
       "    <tr>\n",
       "      <td>4</td>\n",
       "      <td>0</td>\n",
       "      <td>137</td>\n",
       "      <td>40</td>\n",
       "      <td>35</td>\n",
       "      <td>168</td>\n",
       "      <td>43.1</td>\n",
       "      <td>2.288</td>\n",
       "      <td>33</td>\n",
       "      <td>1</td>\n",
       "    </tr>\n",
       "  </tbody>\n",
       "</table>\n",
       "</div>"
      ],
      "text/plain": [
       "   Pregnancies  Glucose  BloodPressure  SkinThickness  Insulin   BMI  \\\n",
       "0            6      148             72             35        0  33.6   \n",
       "1            1       85             66             29        0  26.6   \n",
       "2            8      183             64              0        0  23.3   \n",
       "3            1       89             66             23       94  28.1   \n",
       "4            0      137             40             35      168  43.1   \n",
       "\n",
       "   DiabetesPedigreeFunction  Age  Outcome  \n",
       "0                     0.627   50        1  \n",
       "1                     0.351   31        0  \n",
       "2                     0.672   32        1  \n",
       "3                     0.167   21        0  \n",
       "4                     2.288   33        1  "
      ]
     },
     "execution_count": 3,
     "metadata": {},
     "output_type": "execute_result"
    }
   ],
   "source": [
    "df.head()"
   ]
  },
  {
   "cell_type": "code",
   "execution_count": 4,
   "metadata": {},
   "outputs": [
    {
     "data": {
      "text/plain": [
       "768"
      ]
     },
     "execution_count": 4,
     "metadata": {},
     "output_type": "execute_result"
    }
   ],
   "source": [
    "len(df)"
   ]
  },
  {
   "cell_type": "code",
   "execution_count": 5,
   "metadata": {},
   "outputs": [
    {
     "data": {
      "text/plain": [
       "Index(['Pregnancies', 'Glucose', 'BloodPressure', 'SkinThickness', 'Insulin',\n",
       "       'BMI', 'DiabetesPedigreeFunction', 'Age', 'Outcome'],\n",
       "      dtype='object')"
      ]
     },
     "execution_count": 5,
     "metadata": {},
     "output_type": "execute_result"
    }
   ],
   "source": [
    "df.columns"
   ]
  },
  {
   "cell_type": "code",
   "execution_count": 6,
   "metadata": {},
   "outputs": [],
   "source": [
    "X=df[['Pregnancies', 'Glucose', 'BloodPressure', 'SkinThickness', 'Insulin',\n",
    "       'BMI', 'DiabetesPedigreeFunction', 'Age']]\n",
    "y=df['Outcome']"
   ]
  },
  {
   "cell_type": "code",
   "execution_count": 7,
   "metadata": {},
   "outputs": [
    {
     "data": {
      "text/plain": [
       "768"
      ]
     },
     "execution_count": 7,
     "metadata": {},
     "output_type": "execute_result"
    }
   ],
   "source": [
    "len(df)"
   ]
  },
  {
   "cell_type": "code",
   "execution_count": 8,
   "metadata": {},
   "outputs": [],
   "source": [
    "from sklearn.linear_model import LogisticRegression"
   ]
  },
  {
   "cell_type": "code",
   "execution_count": 9,
   "metadata": {},
   "outputs": [],
   "source": [
    "from sklearn.model_selection import cross_val_score"
   ]
  },
  {
   "cell_type": "code",
   "execution_count": 10,
   "metadata": {},
   "outputs": [
    {
     "name": "stderr",
     "output_type": "stream",
     "text": [
      "/home/angelrps/anaconda3/lib/python3.7/site-packages/sklearn/linear_model/logistic.py:432: FutureWarning: Default solver will be changed to 'lbfgs' in 0.22. Specify a solver to silence this warning.\n",
      "  FutureWarning)\n",
      "/home/angelrps/anaconda3/lib/python3.7/site-packages/sklearn/linear_model/logistic.py:432: FutureWarning: Default solver will be changed to 'lbfgs' in 0.22. Specify a solver to silence this warning.\n",
      "  FutureWarning)\n",
      "/home/angelrps/anaconda3/lib/python3.7/site-packages/sklearn/linear_model/logistic.py:432: FutureWarning: Default solver will be changed to 'lbfgs' in 0.22. Specify a solver to silence this warning.\n",
      "  FutureWarning)\n",
      "/home/angelrps/anaconda3/lib/python3.7/site-packages/sklearn/linear_model/logistic.py:432: FutureWarning: Default solver will be changed to 'lbfgs' in 0.22. Specify a solver to silence this warning.\n",
      "  FutureWarning)\n",
      "/home/angelrps/anaconda3/lib/python3.7/site-packages/sklearn/linear_model/logistic.py:432: FutureWarning: Default solver will be changed to 'lbfgs' in 0.22. Specify a solver to silence this warning.\n",
      "  FutureWarning)\n"
     ]
    },
    {
     "data": {
      "text/plain": [
       "0.770876835582718"
      ]
     },
     "execution_count": 10,
     "metadata": {},
     "output_type": "execute_result"
    }
   ],
   "source": [
    "cross_val_score(LogisticRegression(),X,y,cv=5,scoring=\"accuracy\").mean()"
   ]
  },
  {
   "cell_type": "code",
   "execution_count": 11,
   "metadata": {},
   "outputs": [],
   "source": [
    "from sklearn.model_selection import GridSearchCV"
   ]
  },
  {
   "cell_type": "code",
   "execution_count": 12,
   "metadata": {},
   "outputs": [],
   "source": [
    "# Load the library\n",
    "from sklearn.neighbors import KNeighborsClassifier"
   ]
  },
  {
   "cell_type": "code",
   "execution_count": 13,
   "metadata": {},
   "outputs": [],
   "source": [
    "clfk = GridSearchCV(KNeighborsClassifier(),param_grid={\"n_neighbors\":np.arange(2,100)}\n",
    "                    ,cv=5,scoring=\"accuracy\",verbose=9)"
   ]
  },
  {
   "cell_type": "code",
   "execution_count": 14,
   "metadata": {},
   "outputs": [
    {
     "name": "stderr",
     "output_type": "stream",
     "text": [
      "[Parallel(n_jobs=1)]: Using backend SequentialBackend with 1 concurrent workers.\n"
     ]
    },
    {
     "name": "stdout",
     "output_type": "stream",
     "text": [
      "Fitting 5 folds for each of 98 candidates, totalling 490 fits\n",
      "[CV] n_neighbors=2 ...................................................\n",
      "[CV] ....................... n_neighbors=2, score=0.669, total=   0.0s\n",
      "[CV] n_neighbors=2 ...................................................\n",
      "[CV] ....................... n_neighbors=2, score=0.669, total=   0.0s\n",
      "[CV] n_neighbors=2 ...................................................\n",
      "[CV] ....................... n_neighbors=2, score=0.714, total=   0.0s\n",
      "[CV] n_neighbors=2 ...................................................\n",
      "[CV] ....................... n_neighbors=2, score=0.725, total=   0.0s\n",
      "[CV] n_neighbors=2 ...................................................\n",
      "[CV] ....................... n_neighbors=2, score=0.693, total=   0.0s\n",
      "[CV] n_neighbors=3 ...................................................\n",
      "[CV] ....................... n_neighbors=3, score=0.682, total=   0.0s\n",
      "[CV] n_neighbors=3 ...................................................\n",
      "[CV] ....................... n_neighbors=3, score=0.695, total=   0.0s\n",
      "[CV] n_neighbors=3 ...................................................\n",
      "[CV] ....................... n_neighbors=3, score=0.753, total=   0.0s\n",
      "[CV] n_neighbors=3 ...................................................\n",
      "[CV] ....................... n_neighbors=3, score=0.752, total=   0.0s\n",
      "[CV] n_neighbors=3 ...................................................\n",
      "[CV] ....................... n_neighbors=3, score=0.686, total=   0.0s\n",
      "[CV] n_neighbors=4 ...................................................\n",
      "[CV] ....................... n_neighbors=4, score=0.708, total=   0.0s\n",
      "[CV] n_neighbors=4 ...................................................\n",
      "[CV] ....................... n_neighbors=4, score=0.734, total=   0.0s\n",
      "[CV] n_neighbors=4 ...................................................\n",
      "[CV] ....................... n_neighbors=4, score=0.721, total=   0.0s\n",
      "[CV] n_neighbors=4 ...................................................\n",
      "[CV] ....................... n_neighbors=4, score=0.739, total=   0.0s\n",
      "[CV] n_neighbors=4 ...................................................\n",
      "[CV] ....................... n_neighbors=4, score=0.706, total=   0.0s\n",
      "[CV] n_neighbors=5 ...................................................\n",
      "[CV] ....................... n_neighbors=5, score=0.727, total=   0.0s\n",
      "[CV] n_neighbors=5 ...................................................\n",
      "[CV] ....................... n_neighbors=5, score=0.727, total=   0.0s\n",
      "[CV] n_neighbors=5 ...................................................\n",
      "[CV] ....................... n_neighbors=5, score=0.701, total=   0.0s\n",
      "[CV] n_neighbors=5 ...................................................\n",
      "[CV] ....................... n_neighbors=5, score=0.758, total=   0.0s\n",
      "[CV] n_neighbors=5 ...................................................\n",
      "[CV] ....................... n_neighbors=5, score=0.706, total=   0.0s\n",
      "[CV] n_neighbors=6 ...................................................\n",
      "[CV] ....................... n_neighbors=6, score=0.708, total=   0.0s\n",
      "[CV] n_neighbors=6 ...................................................\n",
      "[CV] ....................... n_neighbors=6, score=0.727, total=   0.0s\n",
      "[CV] n_neighbors=6 ...................................................\n",
      "[CV] ....................... n_neighbors=6, score=0.721, total=   0.0s\n",
      "[CV] n_neighbors=6 ...................................................\n",
      "[CV] ....................... n_neighbors=6, score=0.758, total=   0.0s\n",
      "[CV] n_neighbors=6 ...................................................\n",
      "[CV] ....................... n_neighbors=6, score=0.725, total=   0.0s\n",
      "[CV] n_neighbors=7 ...................................................\n"
     ]
    },
    {
     "name": "stderr",
     "output_type": "stream",
     "text": [
      "[Parallel(n_jobs=1)]: Done   1 out of   1 | elapsed:    0.0s remaining:    0.0s\n",
      "[Parallel(n_jobs=1)]: Done   2 out of   2 | elapsed:    0.0s remaining:    0.0s\n",
      "[Parallel(n_jobs=1)]: Done   3 out of   3 | elapsed:    0.0s remaining:    0.0s\n",
      "[Parallel(n_jobs=1)]: Done   4 out of   4 | elapsed:    0.0s remaining:    0.0s\n",
      "[Parallel(n_jobs=1)]: Done   5 out of   5 | elapsed:    0.1s remaining:    0.0s\n",
      "[Parallel(n_jobs=1)]: Done   6 out of   6 | elapsed:    0.1s remaining:    0.0s\n",
      "[Parallel(n_jobs=1)]: Done   7 out of   7 | elapsed:    0.1s remaining:    0.0s\n",
      "[Parallel(n_jobs=1)]: Done   8 out of   8 | elapsed:    0.1s remaining:    0.0s\n"
     ]
    },
    {
     "name": "stdout",
     "output_type": "stream",
     "text": [
      "[CV] ....................... n_neighbors=7, score=0.721, total=   0.0s\n",
      "[CV] n_neighbors=7 ...................................................\n",
      "[CV] ....................... n_neighbors=7, score=0.714, total=   0.0s\n",
      "[CV] n_neighbors=7 ...................................................\n",
      "[CV] ....................... n_neighbors=7, score=0.740, total=   0.0s\n",
      "[CV] n_neighbors=7 ...................................................\n",
      "[CV] ....................... n_neighbors=7, score=0.765, total=   0.0s\n",
      "[CV] n_neighbors=7 ...................................................\n",
      "[CV] ....................... n_neighbors=7, score=0.739, total=   0.0s\n",
      "[CV] n_neighbors=8 ...................................................\n",
      "[CV] ....................... n_neighbors=8, score=0.740, total=   0.0s\n",
      "[CV] n_neighbors=8 ...................................................\n",
      "[CV] ....................... n_neighbors=8, score=0.721, total=   0.0s\n",
      "[CV] n_neighbors=8 ...................................................\n",
      "[CV] ....................... n_neighbors=8, score=0.760, total=   0.0s\n",
      "[CV] n_neighbors=8 ...................................................\n",
      "[CV] ....................... n_neighbors=8, score=0.791, total=   0.0s\n",
      "[CV] n_neighbors=8 ...................................................\n",
      "[CV] ....................... n_neighbors=8, score=0.739, total=   0.0s\n",
      "[CV] n_neighbors=9 ...................................................\n",
      "[CV] ....................... n_neighbors=9, score=0.740, total=   0.0s\n",
      "[CV] n_neighbors=9 ...................................................\n",
      "[CV] ....................... n_neighbors=9, score=0.714, total=   0.0s\n",
      "[CV] n_neighbors=9 ...................................................\n",
      "[CV] ....................... n_neighbors=9, score=0.753, total=   0.0s\n",
      "[CV] n_neighbors=9 ...................................................\n",
      "[CV] ....................... n_neighbors=9, score=0.784, total=   0.0s\n",
      "[CV] n_neighbors=9 ...................................................\n",
      "[CV] ....................... n_neighbors=9, score=0.719, total=   0.0s\n",
      "[CV] n_neighbors=10 ..................................................\n",
      "[CV] ...................... n_neighbors=10, score=0.747, total=   0.0s\n",
      "[CV] n_neighbors=10 ..................................................\n",
      "[CV] ...................... n_neighbors=10, score=0.721, total=   0.0s\n",
      "[CV] n_neighbors=10 ..................................................\n",
      "[CV] ...................... n_neighbors=10, score=0.760, total=   0.0s\n",
      "[CV] n_neighbors=10 ..................................................\n",
      "[CV] ...................... n_neighbors=10, score=0.784, total=   0.0s\n",
      "[CV] n_neighbors=10 ..................................................\n",
      "[CV] ...................... n_neighbors=10, score=0.712, total=   0.0s\n",
      "[CV] n_neighbors=11 ..................................................\n",
      "[CV] ...................... n_neighbors=11, score=0.753, total=   0.0s\n",
      "[CV] n_neighbors=11 ..................................................\n",
      "[CV] ...................... n_neighbors=11, score=0.714, total=   0.0s\n",
      "[CV] n_neighbors=11 ..................................................\n",
      "[CV] ...................... n_neighbors=11, score=0.753, total=   0.0s\n",
      "[CV] n_neighbors=11 ..................................................\n",
      "[CV] ...................... n_neighbors=11, score=0.804, total=   0.0s\n",
      "[CV] n_neighbors=11 ..................................................\n",
      "[CV] ...................... n_neighbors=11, score=0.719, total=   0.0s\n",
      "[CV] n_neighbors=12 ..................................................\n",
      "[CV] ...................... n_neighbors=12, score=0.747, total=   0.0s\n",
      "[CV] n_neighbors=12 ..................................................\n",
      "[CV] ...................... n_neighbors=12, score=0.727, total=   0.0s\n",
      "[CV] n_neighbors=12 ..................................................\n",
      "[CV] ...................... n_neighbors=12, score=0.760, total=   0.0s\n",
      "[CV] n_neighbors=12 ..................................................\n",
      "[CV] ...................... n_neighbors=12, score=0.810, total=   0.0s\n",
      "[CV] n_neighbors=12 ..................................................\n",
      "[CV] ...................... n_neighbors=12, score=0.719, total=   0.0s\n",
      "[CV] n_neighbors=13 ..................................................\n",
      "[CV] ...................... n_neighbors=13, score=0.760, total=   0.0s\n",
      "[CV] n_neighbors=13 ..................................................\n",
      "[CV] ...................... n_neighbors=13, score=0.708, total=   0.0s\n",
      "[CV] n_neighbors=13 ..................................................\n",
      "[CV] ...................... n_neighbors=13, score=0.760, total=   0.0s\n",
      "[CV] n_neighbors=13 ..................................................\n",
      "[CV] ...................... n_neighbors=13, score=0.824, total=   0.0s\n",
      "[CV] n_neighbors=13 ..................................................\n",
      "[CV] ...................... n_neighbors=13, score=0.725, total=   0.0s\n",
      "[CV] n_neighbors=14 ..................................................\n",
      "[CV] ...................... n_neighbors=14, score=0.760, total=   0.0s\n",
      "[CV] n_neighbors=14 ..................................................\n",
      "[CV] ...................... n_neighbors=14, score=0.721, total=   0.0s\n",
      "[CV] n_neighbors=14 ..................................................\n",
      "[CV] ...................... n_neighbors=14, score=0.760, total=   0.0s\n",
      "[CV] n_neighbors=14 ..................................................\n",
      "[CV] ...................... n_neighbors=14, score=0.810, total=   0.0s\n",
      "[CV] n_neighbors=14 ..................................................\n",
      "[CV] ...................... n_neighbors=14, score=0.739, total=   0.0s\n",
      "[CV] n_neighbors=15 ..................................................\n",
      "[CV] ...................... n_neighbors=15, score=0.734, total=   0.0s\n",
      "[CV] n_neighbors=15 ..................................................\n",
      "[CV] ...................... n_neighbors=15, score=0.682, total=   0.0s\n",
      "[CV] n_neighbors=15 ..................................................\n",
      "[CV] ...................... n_neighbors=15, score=0.734, total=   0.0s\n",
      "[CV] n_neighbors=15 ..................................................\n",
      "[CV] ...................... n_neighbors=15, score=0.817, total=   0.0s\n",
      "[CV] n_neighbors=15 ..................................................\n",
      "[CV] ...................... n_neighbors=15, score=0.725, total=   0.0s\n",
      "[CV] n_neighbors=16 ..................................................\n",
      "[CV] ...................... n_neighbors=16, score=0.734, total=   0.0s\n",
      "[CV] n_neighbors=16 ..................................................\n",
      "[CV] ...................... n_neighbors=16, score=0.701, total=   0.0s\n",
      "[CV] n_neighbors=16 ..................................................\n",
      "[CV] ...................... n_neighbors=16, score=0.766, total=   0.0s\n",
      "[CV] n_neighbors=16 ..................................................\n",
      "[CV] ...................... n_neighbors=16, score=0.797, total=   0.0s\n",
      "[CV] n_neighbors=16 ..................................................\n",
      "[CV] ...................... n_neighbors=16, score=0.719, total=   0.0s\n",
      "[CV] n_neighbors=17 ..................................................\n",
      "[CV] ...................... n_neighbors=17, score=0.753, total=   0.0s\n",
      "[CV] n_neighbors=17 ..................................................\n",
      "[CV] ...................... n_neighbors=17, score=0.682, total=   0.0s\n",
      "[CV] n_neighbors=17 ..................................................\n",
      "[CV] ...................... n_neighbors=17, score=0.766, total=   0.0s\n",
      "[CV] n_neighbors=17 ..................................................\n",
      "[CV] ...................... n_neighbors=17, score=0.824, total=   0.0s\n",
      "[CV] n_neighbors=17 ..................................................\n",
      "[CV] ...................... n_neighbors=17, score=0.732, total=   0.0s\n",
      "[CV] n_neighbors=18 ..................................................\n",
      "[CV] ...................... n_neighbors=18, score=0.753, total=   0.0s\n",
      "[CV] n_neighbors=18 ..................................................\n",
      "[CV] ...................... n_neighbors=18, score=0.695, total=   0.0s\n",
      "[CV] n_neighbors=18 ..................................................\n",
      "[CV] ...................... n_neighbors=18, score=0.753, total=   0.0s\n",
      "[CV] n_neighbors=18 ..................................................\n",
      "[CV] ...................... n_neighbors=18, score=0.810, total=   0.0s\n",
      "[CV] n_neighbors=18 ..................................................\n",
      "[CV] ...................... n_neighbors=18, score=0.732, total=   0.0s\n",
      "[CV] n_neighbors=19 ..................................................\n",
      "[CV] ...................... n_neighbors=19, score=0.747, total=   0.0s\n",
      "[CV] n_neighbors=19 ..................................................\n",
      "[CV] ...................... n_neighbors=19, score=0.675, total=   0.0s\n",
      "[CV] n_neighbors=19 ..................................................\n",
      "[CV] ...................... n_neighbors=19, score=0.766, total=   0.0s\n",
      "[CV] n_neighbors=19 ..................................................\n",
      "[CV] ...................... n_neighbors=19, score=0.824, total=   0.0s\n",
      "[CV] n_neighbors=19 ..................................................\n",
      "[CV] ...................... n_neighbors=19, score=0.739, total=   0.0s\n",
      "[CV] n_neighbors=20 ..................................................\n",
      "[CV] ...................... n_neighbors=20, score=0.760, total=   0.0s\n",
      "[CV] n_neighbors=20 ..................................................\n",
      "[CV] ...................... n_neighbors=20, score=0.682, total=   0.0s\n",
      "[CV] n_neighbors=20 ..................................................\n",
      "[CV] ...................... n_neighbors=20, score=0.747, total=   0.0s\n",
      "[CV] n_neighbors=20 ..................................................\n",
      "[CV] ...................... n_neighbors=20, score=0.804, total=   0.0s\n",
      "[CV] n_neighbors=20 ..................................................\n",
      "[CV] ...................... n_neighbors=20, score=0.752, total=   0.0s\n",
      "[CV] n_neighbors=21 ..................................................\n",
      "[CV] ...................... n_neighbors=21, score=0.753, total=   0.0s\n",
      "[CV] n_neighbors=21 ..................................................\n",
      "[CV] ...................... n_neighbors=21, score=0.675, total=   0.0s\n",
      "[CV] n_neighbors=21 ..................................................\n",
      "[CV] ...................... n_neighbors=21, score=0.734, total=   0.0s\n",
      "[CV] n_neighbors=21 ..................................................\n",
      "[CV] ...................... n_neighbors=21, score=0.810, total=   0.0s\n",
      "[CV] n_neighbors=21 ..................................................\n",
      "[CV] ...................... n_neighbors=21, score=0.745, total=   0.0s\n",
      "[CV] n_neighbors=22 ..................................................\n"
     ]
    },
    {
     "name": "stdout",
     "output_type": "stream",
     "text": [
      "[CV] ...................... n_neighbors=22, score=0.766, total=   0.0s\n",
      "[CV] n_neighbors=22 ..................................................\n",
      "[CV] ...................... n_neighbors=22, score=0.688, total=   0.0s\n",
      "[CV] n_neighbors=22 ..................................................\n",
      "[CV] ...................... n_neighbors=22, score=0.747, total=   0.0s\n",
      "[CV] n_neighbors=22 ..................................................\n",
      "[CV] ...................... n_neighbors=22, score=0.797, total=   0.0s\n",
      "[CV] n_neighbors=22 ..................................................\n",
      "[CV] ...................... n_neighbors=22, score=0.732, total=   0.0s\n",
      "[CV] n_neighbors=23 ..................................................\n",
      "[CV] ...................... n_neighbors=23, score=0.766, total=   0.0s\n",
      "[CV] n_neighbors=23 ..................................................\n",
      "[CV] ...................... n_neighbors=23, score=0.688, total=   0.0s\n",
      "[CV] n_neighbors=23 ..................................................\n",
      "[CV] ...................... n_neighbors=23, score=0.740, total=   0.0s\n",
      "[CV] n_neighbors=23 ..................................................\n",
      "[CV] ...................... n_neighbors=23, score=0.791, total=   0.0s\n",
      "[CV] n_neighbors=23 ..................................................\n",
      "[CV] ...................... n_neighbors=23, score=0.732, total=   0.0s\n",
      "[CV] n_neighbors=24 ..................................................\n",
      "[CV] ...................... n_neighbors=24, score=0.760, total=   0.0s\n",
      "[CV] n_neighbors=24 ..................................................\n",
      "[CV] ...................... n_neighbors=24, score=0.682, total=   0.0s\n",
      "[CV] n_neighbors=24 ..................................................\n",
      "[CV] ...................... n_neighbors=24, score=0.753, total=   0.0s\n",
      "[CV] n_neighbors=24 ..................................................\n",
      "[CV] ...................... n_neighbors=24, score=0.797, total=   0.0s\n",
      "[CV] n_neighbors=24 ..................................................\n",
      "[CV] ...................... n_neighbors=24, score=0.725, total=   0.0s\n",
      "[CV] n_neighbors=25 ..................................................\n",
      "[CV] ...................... n_neighbors=25, score=0.734, total=   0.0s\n",
      "[CV] n_neighbors=25 ..................................................\n",
      "[CV] ...................... n_neighbors=25, score=0.669, total=   0.0s\n",
      "[CV] n_neighbors=25 ..................................................\n",
      "[CV] ...................... n_neighbors=25, score=0.766, total=   0.0s\n",
      "[CV] n_neighbors=25 ..................................................\n",
      "[CV] ...................... n_neighbors=25, score=0.804, total=   0.0s\n",
      "[CV] n_neighbors=25 ..................................................\n",
      "[CV] ...................... n_neighbors=25, score=0.712, total=   0.0s\n",
      "[CV] n_neighbors=26 ..................................................\n",
      "[CV] ...................... n_neighbors=26, score=0.734, total=   0.0s\n",
      "[CV] n_neighbors=26 ..................................................\n",
      "[CV] ...................... n_neighbors=26, score=0.682, total=   0.0s\n",
      "[CV] n_neighbors=26 ..................................................\n",
      "[CV] ...................... n_neighbors=26, score=0.773, total=   0.0s\n",
      "[CV] n_neighbors=26 ..................................................\n",
      "[CV] ...................... n_neighbors=26, score=0.778, total=   0.0s\n",
      "[CV] n_neighbors=26 ..................................................\n",
      "[CV] ...................... n_neighbors=26, score=0.739, total=   0.0s\n",
      "[CV] n_neighbors=27 ..................................................\n",
      "[CV] ...................... n_neighbors=27, score=0.727, total=   0.0s\n",
      "[CV] n_neighbors=27 ..................................................\n",
      "[CV] ...................... n_neighbors=27, score=0.682, total=   0.0s\n",
      "[CV] n_neighbors=27 ..................................................\n",
      "[CV] ...................... n_neighbors=27, score=0.766, total=   0.0s\n",
      "[CV] n_neighbors=27 ..................................................\n",
      "[CV] ...................... n_neighbors=27, score=0.791, total=   0.0s\n",
      "[CV] n_neighbors=27 ..................................................\n",
      "[CV] ...................... n_neighbors=27, score=0.739, total=   0.0s\n",
      "[CV] n_neighbors=28 ..................................................\n",
      "[CV] ...................... n_neighbors=28, score=0.747, total=   0.0s\n",
      "[CV] n_neighbors=28 ..................................................\n",
      "[CV] ...................... n_neighbors=28, score=0.695, total=   0.0s\n",
      "[CV] n_neighbors=28 ..................................................\n",
      "[CV] ...................... n_neighbors=28, score=0.753, total=   0.0s\n",
      "[CV] n_neighbors=28 ..................................................\n",
      "[CV] ...................... n_neighbors=28, score=0.765, total=   0.0s\n",
      "[CV] n_neighbors=28 ..................................................\n",
      "[CV] ...................... n_neighbors=28, score=0.732, total=   0.0s\n",
      "[CV] n_neighbors=29 ..................................................\n",
      "[CV] ...................... n_neighbors=29, score=0.747, total=   0.0s\n",
      "[CV] n_neighbors=29 ..................................................\n",
      "[CV] ...................... n_neighbors=29, score=0.695, total=   0.0s\n",
      "[CV] n_neighbors=29 ..................................................\n",
      "[CV] ...................... n_neighbors=29, score=0.779, total=   0.0s\n",
      "[CV] n_neighbors=29 ..................................................\n",
      "[CV] ...................... n_neighbors=29, score=0.771, total=   0.0s\n",
      "[CV] n_neighbors=29 ..................................................\n",
      "[CV] ...................... n_neighbors=29, score=0.719, total=   0.0s\n",
      "[CV] n_neighbors=30 ..................................................\n",
      "[CV] ...................... n_neighbors=30, score=0.760, total=   0.0s\n",
      "[CV] n_neighbors=30 ..................................................\n",
      "[CV] ...................... n_neighbors=30, score=0.701, total=   0.0s\n",
      "[CV] n_neighbors=30 ..................................................\n",
      "[CV] ...................... n_neighbors=30, score=0.760, total=   0.0s\n",
      "[CV] n_neighbors=30 ..................................................\n",
      "[CV] ...................... n_neighbors=30, score=0.765, total=   0.0s\n",
      "[CV] n_neighbors=30 ..................................................\n",
      "[CV] ...................... n_neighbors=30, score=0.745, total=   0.0s\n",
      "[CV] n_neighbors=31 ..................................................\n",
      "[CV] ...................... n_neighbors=31, score=0.766, total=   0.0s\n",
      "[CV] n_neighbors=31 ..................................................\n",
      "[CV] ...................... n_neighbors=31, score=0.708, total=   0.0s\n",
      "[CV] n_neighbors=31 ..................................................\n",
      "[CV] ...................... n_neighbors=31, score=0.760, total=   0.0s\n",
      "[CV] n_neighbors=31 ..................................................\n",
      "[CV] ...................... n_neighbors=31, score=0.765, total=   0.0s\n",
      "[CV] n_neighbors=31 ..................................................\n",
      "[CV] ...................... n_neighbors=31, score=0.725, total=   0.0s\n",
      "[CV] n_neighbors=32 ..................................................\n",
      "[CV] ...................... n_neighbors=32, score=0.747, total=   0.0s\n",
      "[CV] n_neighbors=32 ..................................................\n",
      "[CV] ...................... n_neighbors=32, score=0.714, total=   0.0s\n",
      "[CV] n_neighbors=32 ..................................................\n",
      "[CV] ...................... n_neighbors=32, score=0.766, total=   0.0s\n",
      "[CV] n_neighbors=32 ..................................................\n",
      "[CV] ...................... n_neighbors=32, score=0.758, total=   0.0s\n",
      "[CV] n_neighbors=32 ..................................................\n",
      "[CV] ...................... n_neighbors=32, score=0.745, total=   0.0s\n",
      "[CV] n_neighbors=33 ..................................................\n",
      "[CV] ...................... n_neighbors=33, score=0.740, total=   0.0s\n",
      "[CV] n_neighbors=33 ..................................................\n",
      "[CV] ...................... n_neighbors=33, score=0.721, total=   0.0s\n",
      "[CV] n_neighbors=33 ..................................................\n",
      "[CV] ...................... n_neighbors=33, score=0.753, total=   0.0s\n",
      "[CV] n_neighbors=33 ..................................................\n",
      "[CV] ...................... n_neighbors=33, score=0.765, total=   0.0s\n",
      "[CV] n_neighbors=33 ..................................................\n",
      "[CV] ...................... n_neighbors=33, score=0.752, total=   0.0s\n",
      "[CV] n_neighbors=34 ..................................................\n",
      "[CV] ...................... n_neighbors=34, score=0.740, total=   0.0s\n",
      "[CV] n_neighbors=34 ..................................................\n",
      "[CV] ...................... n_neighbors=34, score=0.721, total=   0.0s\n",
      "[CV] n_neighbors=34 ..................................................\n",
      "[CV] ...................... n_neighbors=34, score=0.753, total=   0.0s\n",
      "[CV] n_neighbors=34 ..................................................\n",
      "[CV] ...................... n_neighbors=34, score=0.765, total=   0.0s\n",
      "[CV] n_neighbors=34 ..................................................\n",
      "[CV] ...................... n_neighbors=34, score=0.758, total=   0.0s\n",
      "[CV] n_neighbors=35 ..................................................\n",
      "[CV] ...................... n_neighbors=35, score=0.747, total=   0.0s\n",
      "[CV] n_neighbors=35 ..................................................\n",
      "[CV] ...................... n_neighbors=35, score=0.727, total=   0.0s\n",
      "[CV] n_neighbors=35 ..................................................\n",
      "[CV] ...................... n_neighbors=35, score=0.760, total=   0.0s\n",
      "[CV] n_neighbors=35 ..................................................\n",
      "[CV] ...................... n_neighbors=35, score=0.758, total=   0.0s\n",
      "[CV] n_neighbors=35 ..................................................\n",
      "[CV] ...................... n_neighbors=35, score=0.752, total=   0.0s\n",
      "[CV] n_neighbors=36 ..................................................\n",
      "[CV] ...................... n_neighbors=36, score=0.734, total=   0.0s\n",
      "[CV] n_neighbors=36 ..................................................\n",
      "[CV] ...................... n_neighbors=36, score=0.727, total=   0.0s\n",
      "[CV] n_neighbors=36 ..................................................\n"
     ]
    },
    {
     "name": "stdout",
     "output_type": "stream",
     "text": [
      "[CV] ...................... n_neighbors=36, score=0.760, total=   0.0s\n",
      "[CV] n_neighbors=36 ..................................................\n",
      "[CV] ...................... n_neighbors=36, score=0.758, total=   0.0s\n",
      "[CV] n_neighbors=36 ..................................................\n",
      "[CV] ...................... n_neighbors=36, score=0.758, total=   0.0s\n",
      "[CV] n_neighbors=37 ..................................................\n",
      "[CV] ...................... n_neighbors=37, score=0.740, total=   0.0s\n",
      "[CV] n_neighbors=37 ..................................................\n",
      "[CV] ...................... n_neighbors=37, score=0.708, total=   0.0s\n",
      "[CV] n_neighbors=37 ..................................................\n",
      "[CV] ...................... n_neighbors=37, score=0.760, total=   0.0s\n",
      "[CV] n_neighbors=37 ..................................................\n",
      "[CV] ...................... n_neighbors=37, score=0.765, total=   0.0s\n",
      "[CV] n_neighbors=37 ..................................................\n",
      "[CV] ...................... n_neighbors=37, score=0.745, total=   0.0s\n",
      "[CV] n_neighbors=38 ..................................................\n",
      "[CV] ...................... n_neighbors=38, score=0.747, total=   0.0s\n",
      "[CV] n_neighbors=38 ..................................................\n",
      "[CV] ...................... n_neighbors=38, score=0.708, total=   0.0s\n",
      "[CV] n_neighbors=38 ..................................................\n",
      "[CV] ...................... n_neighbors=38, score=0.753, total=   0.0s\n",
      "[CV] n_neighbors=38 ..................................................\n",
      "[CV] ...................... n_neighbors=38, score=0.745, total=   0.0s\n",
      "[CV] n_neighbors=38 ..................................................\n",
      "[CV] ...................... n_neighbors=38, score=0.745, total=   0.0s\n",
      "[CV] n_neighbors=39 ..................................................\n",
      "[CV] ...................... n_neighbors=39, score=0.740, total=   0.0s\n",
      "[CV] n_neighbors=39 ..................................................\n",
      "[CV] ...................... n_neighbors=39, score=0.714, total=   0.0s\n",
      "[CV] n_neighbors=39 ..................................................\n",
      "[CV] ...................... n_neighbors=39, score=0.760, total=   0.0s\n",
      "[CV] n_neighbors=39 ..................................................\n",
      "[CV] ...................... n_neighbors=39, score=0.752, total=   0.0s\n",
      "[CV] n_neighbors=39 ..................................................\n",
      "[CV] ...................... n_neighbors=39, score=0.758, total=   0.0s\n",
      "[CV] n_neighbors=40 ..................................................\n",
      "[CV] ...................... n_neighbors=40, score=0.734, total=   0.0s\n",
      "[CV] n_neighbors=40 ..................................................\n",
      "[CV] ...................... n_neighbors=40, score=0.721, total=   0.0s\n",
      "[CV] n_neighbors=40 ..................................................\n",
      "[CV] ...................... n_neighbors=40, score=0.747, total=   0.0s\n",
      "[CV] n_neighbors=40 ..................................................\n",
      "[CV] ...................... n_neighbors=40, score=0.739, total=   0.0s\n",
      "[CV] n_neighbors=40 ..................................................\n",
      "[CV] ...................... n_neighbors=40, score=0.745, total=   0.0s\n",
      "[CV] n_neighbors=41 ..................................................\n",
      "[CV] ...................... n_neighbors=41, score=0.734, total=   0.0s\n",
      "[CV] n_neighbors=41 ..................................................\n",
      "[CV] ...................... n_neighbors=41, score=0.701, total=   0.0s\n",
      "[CV] n_neighbors=41 ..................................................\n",
      "[CV] ...................... n_neighbors=41, score=0.740, total=   0.0s\n",
      "[CV] n_neighbors=41 ..................................................\n",
      "[CV] ...................... n_neighbors=41, score=0.752, total=   0.0s\n",
      "[CV] n_neighbors=41 ..................................................\n",
      "[CV] ...................... n_neighbors=41, score=0.752, total=   0.0s\n",
      "[CV] n_neighbors=42 ..................................................\n",
      "[CV] ...................... n_neighbors=42, score=0.740, total=   0.0s\n",
      "[CV] n_neighbors=42 ..................................................\n",
      "[CV] ...................... n_neighbors=42, score=0.714, total=   0.0s\n",
      "[CV] n_neighbors=42 ..................................................\n",
      "[CV] ...................... n_neighbors=42, score=0.727, total=   0.0s\n",
      "[CV] n_neighbors=42 ..................................................\n",
      "[CV] ...................... n_neighbors=42, score=0.739, total=   0.0s\n",
      "[CV] n_neighbors=42 ..................................................\n",
      "[CV] ...................... n_neighbors=42, score=0.752, total=   0.0s\n",
      "[CV] n_neighbors=43 ..................................................\n",
      "[CV] ...................... n_neighbors=43, score=0.734, total=   0.0s\n",
      "[CV] n_neighbors=43 ..................................................\n",
      "[CV] ...................... n_neighbors=43, score=0.708, total=   0.0s\n",
      "[CV] n_neighbors=43 ..................................................\n",
      "[CV] ...................... n_neighbors=43, score=0.747, total=   0.0s\n",
      "[CV] n_neighbors=43 ..................................................\n",
      "[CV] ...................... n_neighbors=43, score=0.745, total=   0.0s\n",
      "[CV] n_neighbors=43 ..................................................\n",
      "[CV] ...................... n_neighbors=43, score=0.739, total=   0.0s\n",
      "[CV] n_neighbors=44 ..................................................\n",
      "[CV] ...................... n_neighbors=44, score=0.734, total=   0.0s\n",
      "[CV] n_neighbors=44 ..................................................\n",
      "[CV] ...................... n_neighbors=44, score=0.708, total=   0.0s\n",
      "[CV] n_neighbors=44 ..................................................\n",
      "[CV] ...................... n_neighbors=44, score=0.740, total=   0.0s\n",
      "[CV] n_neighbors=44 ..................................................\n",
      "[CV] ...................... n_neighbors=44, score=0.732, total=   0.0s\n",
      "[CV] n_neighbors=44 ..................................................\n",
      "[CV] ...................... n_neighbors=44, score=0.739, total=   0.0s\n",
      "[CV] n_neighbors=45 ..................................................\n",
      "[CV] ...................... n_neighbors=45, score=0.747, total=   0.0s\n",
      "[CV] n_neighbors=45 ..................................................\n",
      "[CV] ...................... n_neighbors=45, score=0.701, total=   0.0s\n",
      "[CV] n_neighbors=45 ..................................................\n",
      "[CV] ...................... n_neighbors=45, score=0.760, total=   0.0s\n",
      "[CV] n_neighbors=45 ..................................................\n",
      "[CV] ...................... n_neighbors=45, score=0.725, total=   0.0s\n",
      "[CV] n_neighbors=45 ..................................................\n",
      "[CV] ...................... n_neighbors=45, score=0.745, total=   0.0s\n",
      "[CV] n_neighbors=46 ..................................................\n",
      "[CV] ...................... n_neighbors=46, score=0.734, total=   0.0s\n",
      "[CV] n_neighbors=46 ..................................................\n",
      "[CV] ...................... n_neighbors=46, score=0.714, total=   0.0s\n",
      "[CV] n_neighbors=46 ..................................................\n",
      "[CV] ...................... n_neighbors=46, score=0.766, total=   0.0s\n",
      "[CV] n_neighbors=46 ..................................................\n",
      "[CV] ...................... n_neighbors=46, score=0.719, total=   0.0s\n",
      "[CV] n_neighbors=46 ..................................................\n",
      "[CV] ...................... n_neighbors=46, score=0.745, total=   0.0s\n",
      "[CV] n_neighbors=47 ..................................................\n",
      "[CV] ...................... n_neighbors=47, score=0.734, total=   0.0s\n",
      "[CV] n_neighbors=47 ..................................................\n",
      "[CV] ...................... n_neighbors=47, score=0.695, total=   0.0s\n",
      "[CV] n_neighbors=47 ..................................................\n",
      "[CV] ...................... n_neighbors=47, score=0.760, total=   0.0s\n",
      "[CV] n_neighbors=47 ..................................................\n",
      "[CV] ...................... n_neighbors=47, score=0.739, total=   0.0s\n",
      "[CV] n_neighbors=47 ..................................................\n",
      "[CV] ...................... n_neighbors=47, score=0.752, total=   0.0s\n",
      "[CV] n_neighbors=48 ..................................................\n",
      "[CV] ...................... n_neighbors=48, score=0.734, total=   0.0s\n",
      "[CV] n_neighbors=48 ..................................................\n",
      "[CV] ...................... n_neighbors=48, score=0.701, total=   0.0s\n",
      "[CV] n_neighbors=48 ..................................................\n",
      "[CV] ...................... n_neighbors=48, score=0.773, total=   0.0s\n",
      "[CV] n_neighbors=48 ..................................................\n",
      "[CV] ...................... n_neighbors=48, score=0.739, total=   0.0s\n",
      "[CV] n_neighbors=48 ..................................................\n",
      "[CV] ...................... n_neighbors=48, score=0.758, total=   0.0s\n",
      "[CV] n_neighbors=49 ..................................................\n",
      "[CV] ...................... n_neighbors=49, score=0.721, total=   0.0s\n",
      "[CV] n_neighbors=49 ..................................................\n",
      "[CV] ...................... n_neighbors=49, score=0.708, total=   0.0s\n",
      "[CV] n_neighbors=49 ..................................................\n",
      "[CV] ...................... n_neighbors=49, score=0.773, total=   0.0s\n",
      "[CV] n_neighbors=49 ..................................................\n",
      "[CV] ...................... n_neighbors=49, score=0.752, total=   0.0s\n",
      "[CV] n_neighbors=49 ..................................................\n",
      "[CV] ...................... n_neighbors=49, score=0.745, total=   0.0s\n",
      "[CV] n_neighbors=50 ..................................................\n",
      "[CV] ...................... n_neighbors=50, score=0.727, total=   0.0s\n",
      "[CV] n_neighbors=50 ..................................................\n",
      "[CV] ...................... n_neighbors=50, score=0.701, total=   0.0s\n",
      "[CV] n_neighbors=50 ..................................................\n",
      "[CV] ...................... n_neighbors=50, score=0.766, total=   0.0s\n",
      "[CV] n_neighbors=50 ..................................................\n",
      "[CV] ...................... n_neighbors=50, score=0.732, total=   0.0s\n",
      "[CV] n_neighbors=50 ..................................................\n",
      "[CV] ...................... n_neighbors=50, score=0.752, total=   0.0s\n",
      "[CV] n_neighbors=51 ..................................................\n",
      "[CV] ...................... n_neighbors=51, score=0.727, total=   0.0s\n",
      "[CV] n_neighbors=51 ..................................................\n"
     ]
    },
    {
     "name": "stdout",
     "output_type": "stream",
     "text": [
      "[CV] ...................... n_neighbors=51, score=0.701, total=   0.0s\n",
      "[CV] n_neighbors=51 ..................................................\n",
      "[CV] ...................... n_neighbors=51, score=0.766, total=   0.0s\n",
      "[CV] n_neighbors=51 ..................................................\n",
      "[CV] ...................... n_neighbors=51, score=0.739, total=   0.0s\n",
      "[CV] n_neighbors=51 ..................................................\n",
      "[CV] ...................... n_neighbors=51, score=0.752, total=   0.0s\n",
      "[CV] n_neighbors=52 ..................................................\n",
      "[CV] ...................... n_neighbors=52, score=0.734, total=   0.0s\n",
      "[CV] n_neighbors=52 ..................................................\n",
      "[CV] ...................... n_neighbors=52, score=0.695, total=   0.0s\n",
      "[CV] n_neighbors=52 ..................................................\n",
      "[CV] ...................... n_neighbors=52, score=0.747, total=   0.0s\n",
      "[CV] n_neighbors=52 ..................................................\n",
      "[CV] ...................... n_neighbors=52, score=0.739, total=   0.0s\n",
      "[CV] n_neighbors=52 ..................................................\n",
      "[CV] ...................... n_neighbors=52, score=0.758, total=   0.0s\n",
      "[CV] n_neighbors=53 ..................................................\n",
      "[CV] ...................... n_neighbors=53, score=0.734, total=   0.0s\n",
      "[CV] n_neighbors=53 ..................................................\n",
      "[CV] ...................... n_neighbors=53, score=0.682, total=   0.0s\n",
      "[CV] n_neighbors=53 ..................................................\n",
      "[CV] ...................... n_neighbors=53, score=0.760, total=   0.0s\n",
      "[CV] n_neighbors=53 ..................................................\n",
      "[CV] ...................... n_neighbors=53, score=0.745, total=   0.0s\n",
      "[CV] n_neighbors=53 ..................................................\n",
      "[CV] ...................... n_neighbors=53, score=0.745, total=   0.0s\n",
      "[CV] n_neighbors=54 ..................................................\n",
      "[CV] ...................... n_neighbors=54, score=0.740, total=   0.0s\n",
      "[CV] n_neighbors=54 ..................................................\n",
      "[CV] ...................... n_neighbors=54, score=0.695, total=   0.0s\n",
      "[CV] n_neighbors=54 ..................................................\n",
      "[CV] ...................... n_neighbors=54, score=0.747, total=   0.0s\n",
      "[CV] n_neighbors=54 ..................................................\n",
      "[CV] ...................... n_neighbors=54, score=0.732, total=   0.0s\n",
      "[CV] n_neighbors=54 ..................................................\n",
      "[CV] ...................... n_neighbors=54, score=0.745, total=   0.0s\n",
      "[CV] n_neighbors=55 ..................................................\n",
      "[CV] ...................... n_neighbors=55, score=0.734, total=   0.0s\n",
      "[CV] n_neighbors=55 ..................................................\n",
      "[CV] ...................... n_neighbors=55, score=0.688, total=   0.0s\n",
      "[CV] n_neighbors=55 ..................................................\n",
      "[CV] ...................... n_neighbors=55, score=0.753, total=   0.0s\n",
      "[CV] n_neighbors=55 ..................................................\n",
      "[CV] ...................... n_neighbors=55, score=0.745, total=   0.0s\n",
      "[CV] n_neighbors=55 ..................................................\n",
      "[CV] ...................... n_neighbors=55, score=0.739, total=   0.0s\n",
      "[CV] n_neighbors=56 ..................................................\n",
      "[CV] ...................... n_neighbors=56, score=0.740, total=   0.0s\n",
      "[CV] n_neighbors=56 ..................................................\n",
      "[CV] ...................... n_neighbors=56, score=0.682, total=   0.0s\n",
      "[CV] n_neighbors=56 ..................................................\n",
      "[CV] ...................... n_neighbors=56, score=0.753, total=   0.0s\n",
      "[CV] n_neighbors=56 ..................................................\n",
      "[CV] ...................... n_neighbors=56, score=0.732, total=   0.0s\n",
      "[CV] n_neighbors=56 ..................................................\n",
      "[CV] ...................... n_neighbors=56, score=0.739, total=   0.0s\n",
      "[CV] n_neighbors=57 ..................................................\n",
      "[CV] ...................... n_neighbors=57, score=0.740, total=   0.0s\n",
      "[CV] n_neighbors=57 ..................................................\n",
      "[CV] ...................... n_neighbors=57, score=0.682, total=   0.0s\n",
      "[CV] n_neighbors=57 ..................................................\n",
      "[CV] ...................... n_neighbors=57, score=0.760, total=   0.0s\n",
      "[CV] n_neighbors=57 ..................................................\n",
      "[CV] ...................... n_neighbors=57, score=0.739, total=   0.0s\n",
      "[CV] n_neighbors=57 ..................................................\n",
      "[CV] ...................... n_neighbors=57, score=0.745, total=   0.0s\n",
      "[CV] n_neighbors=58 ..................................................\n",
      "[CV] ...................... n_neighbors=58, score=0.753, total=   0.0s\n",
      "[CV] n_neighbors=58 ..................................................\n",
      "[CV] ...................... n_neighbors=58, score=0.701, total=   0.0s\n",
      "[CV] n_neighbors=58 ..................................................\n",
      "[CV] ...................... n_neighbors=58, score=0.753, total=   0.0s\n",
      "[CV] n_neighbors=58 ..................................................\n",
      "[CV] ...................... n_neighbors=58, score=0.739, total=   0.0s\n",
      "[CV] n_neighbors=58 ..................................................\n",
      "[CV] ...................... n_neighbors=58, score=0.745, total=   0.0s\n",
      "[CV] n_neighbors=59 ..................................................\n",
      "[CV] ...................... n_neighbors=59, score=0.747, total=   0.0s\n",
      "[CV] n_neighbors=59 ..................................................\n",
      "[CV] ...................... n_neighbors=59, score=0.695, total=   0.0s\n",
      "[CV] n_neighbors=59 ..................................................\n",
      "[CV] ...................... n_neighbors=59, score=0.753, total=   0.0s\n",
      "[CV] n_neighbors=59 ..................................................\n",
      "[CV] ...................... n_neighbors=59, score=0.745, total=   0.0s\n",
      "[CV] n_neighbors=59 ..................................................\n",
      "[CV] ...................... n_neighbors=59, score=0.739, total=   0.0s\n",
      "[CV] n_neighbors=60 ..................................................\n",
      "[CV] ...................... n_neighbors=60, score=0.753, total=   0.0s\n",
      "[CV] n_neighbors=60 ..................................................\n",
      "[CV] ...................... n_neighbors=60, score=0.701, total=   0.0s\n",
      "[CV] n_neighbors=60 ..................................................\n",
      "[CV] ...................... n_neighbors=60, score=0.753, total=   0.0s\n",
      "[CV] n_neighbors=60 ..................................................\n",
      "[CV] ...................... n_neighbors=60, score=0.739, total=   0.0s\n",
      "[CV] n_neighbors=60 ..................................................\n",
      "[CV] ...................... n_neighbors=60, score=0.739, total=   0.0s\n",
      "[CV] n_neighbors=61 ..................................................\n",
      "[CV] ...................... n_neighbors=61, score=0.753, total=   0.0s\n",
      "[CV] n_neighbors=61 ..................................................\n",
      "[CV] ...................... n_neighbors=61, score=0.701, total=   0.0s\n",
      "[CV] n_neighbors=61 ..................................................\n",
      "[CV] ...................... n_neighbors=61, score=0.766, total=   0.0s\n",
      "[CV] n_neighbors=61 ..................................................\n",
      "[CV] ...................... n_neighbors=61, score=0.732, total=   0.0s\n",
      "[CV] n_neighbors=61 ..................................................\n",
      "[CV] ...................... n_neighbors=61, score=0.739, total=   0.0s\n",
      "[CV] n_neighbors=62 ..................................................\n",
      "[CV] ...................... n_neighbors=62, score=0.760, total=   0.0s\n",
      "[CV] n_neighbors=62 ..................................................\n",
      "[CV] ...................... n_neighbors=62, score=0.708, total=   0.0s\n",
      "[CV] n_neighbors=62 ..................................................\n",
      "[CV] ...................... n_neighbors=62, score=0.760, total=   0.0s\n",
      "[CV] n_neighbors=62 ..................................................\n",
      "[CV] ...................... n_neighbors=62, score=0.745, total=   0.0s\n",
      "[CV] n_neighbors=62 ..................................................\n",
      "[CV] ...................... n_neighbors=62, score=0.739, total=   0.0s\n",
      "[CV] n_neighbors=63 ..................................................\n",
      "[CV] ...................... n_neighbors=63, score=0.753, total=   0.0s\n",
      "[CV] n_neighbors=63 ..................................................\n",
      "[CV] ...................... n_neighbors=63, score=0.695, total=   0.0s\n",
      "[CV] n_neighbors=63 ..................................................\n",
      "[CV] ...................... n_neighbors=63, score=0.766, total=   0.0s\n",
      "[CV] n_neighbors=63 ..................................................\n",
      "[CV] ...................... n_neighbors=63, score=0.745, total=   0.0s\n",
      "[CV] n_neighbors=63 ..................................................\n",
      "[CV] ...................... n_neighbors=63, score=0.732, total=   0.0s\n",
      "[CV] n_neighbors=64 ..................................................\n",
      "[CV] ...................... n_neighbors=64, score=0.760, total=   0.0s\n",
      "[CV] n_neighbors=64 ..................................................\n"
     ]
    },
    {
     "name": "stdout",
     "output_type": "stream",
     "text": [
      "[CV] ...................... n_neighbors=64, score=0.701, total=   0.0s\n",
      "[CV] n_neighbors=64 ..................................................\n",
      "[CV] ...................... n_neighbors=64, score=0.753, total=   0.0s\n",
      "[CV] n_neighbors=64 ..................................................\n",
      "[CV] ...................... n_neighbors=64, score=0.752, total=   0.0s\n",
      "[CV] n_neighbors=64 ..................................................\n",
      "[CV] ...................... n_neighbors=64, score=0.745, total=   0.0s\n",
      "[CV] n_neighbors=65 ..................................................\n",
      "[CV] ...................... n_neighbors=65, score=0.747, total=   0.0s\n",
      "[CV] n_neighbors=65 ..................................................\n",
      "[CV] ...................... n_neighbors=65, score=0.695, total=   0.0s\n",
      "[CV] n_neighbors=65 ..................................................\n",
      "[CV] ...................... n_neighbors=65, score=0.760, total=   0.0s\n",
      "[CV] n_neighbors=65 ..................................................\n",
      "[CV] ...................... n_neighbors=65, score=0.752, total=   0.0s\n",
      "[CV] n_neighbors=65 ..................................................\n",
      "[CV] ...................... n_neighbors=65, score=0.732, total=   0.0s\n",
      "[CV] n_neighbors=66 ..................................................\n",
      "[CV] ...................... n_neighbors=66, score=0.753, total=   0.0s\n",
      "[CV] n_neighbors=66 ..................................................\n",
      "[CV] ...................... n_neighbors=66, score=0.688, total=   0.0s\n",
      "[CV] n_neighbors=66 ..................................................\n",
      "[CV] ...................... n_neighbors=66, score=0.760, total=   0.0s\n",
      "[CV] n_neighbors=66 ..................................................\n",
      "[CV] ...................... n_neighbors=66, score=0.752, total=   0.0s\n",
      "[CV] n_neighbors=66 ..................................................\n",
      "[CV] ...................... n_neighbors=66, score=0.732, total=   0.0s\n",
      "[CV] n_neighbors=67 ..................................................\n",
      "[CV] ...................... n_neighbors=67, score=0.753, total=   0.0s\n",
      "[CV] n_neighbors=67 ..................................................\n",
      "[CV] ...................... n_neighbors=67, score=0.688, total=   0.0s\n",
      "[CV] n_neighbors=67 ..................................................\n",
      "[CV] ...................... n_neighbors=67, score=0.760, total=   0.0s\n",
      "[CV] n_neighbors=67 ..................................................\n",
      "[CV] ...................... n_neighbors=67, score=0.758, total=   0.0s\n",
      "[CV] n_neighbors=67 ..................................................\n",
      "[CV] ...................... n_neighbors=67, score=0.739, total=   0.0s\n",
      "[CV] n_neighbors=68 ..................................................\n",
      "[CV] ...................... n_neighbors=68, score=0.747, total=   0.0s\n",
      "[CV] n_neighbors=68 ..................................................\n",
      "[CV] ...................... n_neighbors=68, score=0.682, total=   0.0s\n",
      "[CV] n_neighbors=68 ..................................................\n",
      "[CV] ...................... n_neighbors=68, score=0.760, total=   0.0s\n",
      "[CV] n_neighbors=68 ..................................................\n",
      "[CV] ...................... n_neighbors=68, score=0.725, total=   0.0s\n",
      "[CV] n_neighbors=68 ..................................................\n",
      "[CV] ...................... n_neighbors=68, score=0.725, total=   0.0s\n",
      "[CV] n_neighbors=69 ..................................................\n",
      "[CV] ...................... n_neighbors=69, score=0.747, total=   0.0s\n",
      "[CV] n_neighbors=69 ..................................................\n",
      "[CV] ...................... n_neighbors=69, score=0.675, total=   0.0s\n",
      "[CV] n_neighbors=69 ..................................................\n",
      "[CV] ...................... n_neighbors=69, score=0.766, total=   0.0s\n",
      "[CV] n_neighbors=69 ..................................................\n",
      "[CV] ...................... n_neighbors=69, score=0.739, total=   0.0s\n",
      "[CV] n_neighbors=69 ..................................................\n",
      "[CV] ...................... n_neighbors=69, score=0.725, total=   0.0s\n",
      "[CV] n_neighbors=70 ..................................................\n",
      "[CV] ...................... n_neighbors=70, score=0.747, total=   0.0s\n",
      "[CV] n_neighbors=70 ..................................................\n",
      "[CV] ...................... n_neighbors=70, score=0.682, total=   0.0s\n",
      "[CV] n_neighbors=70 ..................................................\n",
      "[CV] ...................... n_neighbors=70, score=0.760, total=   0.0s\n",
      "[CV] n_neighbors=70 ..................................................\n",
      "[CV] ...................... n_neighbors=70, score=0.732, total=   0.0s\n",
      "[CV] n_neighbors=70 ..................................................\n",
      "[CV] ...................... n_neighbors=70, score=0.706, total=   0.0s\n",
      "[CV] n_neighbors=71 ..................................................\n",
      "[CV] ...................... n_neighbors=71, score=0.740, total=   0.0s\n",
      "[CV] n_neighbors=71 ..................................................\n",
      "[CV] ...................... n_neighbors=71, score=0.682, total=   0.0s\n",
      "[CV] n_neighbors=71 ..................................................\n",
      "[CV] ...................... n_neighbors=71, score=0.766, total=   0.0s\n",
      "[CV] n_neighbors=71 ..................................................\n",
      "[CV] ...................... n_neighbors=71, score=0.752, total=   0.0s\n",
      "[CV] n_neighbors=71 ..................................................\n",
      "[CV] ...................... n_neighbors=71, score=0.712, total=   0.0s\n",
      "[CV] n_neighbors=72 ..................................................\n",
      "[CV] ...................... n_neighbors=72, score=0.747, total=   0.0s\n",
      "[CV] n_neighbors=72 ..................................................\n",
      "[CV] ...................... n_neighbors=72, score=0.701, total=   0.0s\n",
      "[CV] n_neighbors=72 ..................................................\n",
      "[CV] ...................... n_neighbors=72, score=0.760, total=   0.0s\n",
      "[CV] n_neighbors=72 ..................................................\n",
      "[CV] ...................... n_neighbors=72, score=0.739, total=   0.0s\n",
      "[CV] n_neighbors=72 ..................................................\n",
      "[CV] ...................... n_neighbors=72, score=0.706, total=   0.0s\n",
      "[CV] n_neighbors=73 ..................................................\n",
      "[CV] ...................... n_neighbors=73, score=0.734, total=   0.0s\n",
      "[CV] n_neighbors=73 ..................................................\n",
      "[CV] ...................... n_neighbors=73, score=0.701, total=   0.0s\n",
      "[CV] n_neighbors=73 ..................................................\n",
      "[CV] ...................... n_neighbors=73, score=0.753, total=   0.0s\n",
      "[CV] n_neighbors=73 ..................................................\n",
      "[CV] ...................... n_neighbors=73, score=0.739, total=   0.0s\n",
      "[CV] n_neighbors=73 ..................................................\n",
      "[CV] ...................... n_neighbors=73, score=0.699, total=   0.0s\n",
      "[CV] n_neighbors=74 ..................................................\n",
      "[CV] ...................... n_neighbors=74, score=0.727, total=   0.0s\n",
      "[CV] n_neighbors=74 ..................................................\n",
      "[CV] ...................... n_neighbors=74, score=0.701, total=   0.0s\n",
      "[CV] n_neighbors=74 ..................................................\n",
      "[CV] ...................... n_neighbors=74, score=0.747, total=   0.0s\n",
      "[CV] n_neighbors=74 ..................................................\n",
      "[CV] ...................... n_neighbors=74, score=0.739, total=   0.0s\n",
      "[CV] n_neighbors=74 ..................................................\n",
      "[CV] ...................... n_neighbors=74, score=0.686, total=   0.0s\n",
      "[CV] n_neighbors=75 ..................................................\n",
      "[CV] ...................... n_neighbors=75, score=0.740, total=   0.0s\n",
      "[CV] n_neighbors=75 ..................................................\n",
      "[CV] ...................... n_neighbors=75, score=0.701, total=   0.0s\n",
      "[CV] n_neighbors=75 ..................................................\n",
      "[CV] ...................... n_neighbors=75, score=0.760, total=   0.0s\n",
      "[CV] n_neighbors=75 ..................................................\n",
      "[CV] ...................... n_neighbors=75, score=0.739, total=   0.0s\n",
      "[CV] n_neighbors=75 ..................................................\n",
      "[CV] ...................... n_neighbors=75, score=0.699, total=   0.0s\n",
      "[CV] n_neighbors=76 ..................................................\n",
      "[CV] ...................... n_neighbors=76, score=0.740, total=   0.0s\n",
      "[CV] n_neighbors=76 ..................................................\n",
      "[CV] ...................... n_neighbors=76, score=0.701, total=   0.0s\n",
      "[CV] n_neighbors=76 ..................................................\n",
      "[CV] ...................... n_neighbors=76, score=0.740, total=   0.0s\n",
      "[CV] n_neighbors=76 ..................................................\n",
      "[CV] ...................... n_neighbors=76, score=0.725, total=   0.0s\n",
      "[CV] n_neighbors=76 ..................................................\n",
      "[CV] ...................... n_neighbors=76, score=0.693, total=   0.0s\n",
      "[CV] n_neighbors=77 ..................................................\n",
      "[CV] ...................... n_neighbors=77, score=0.747, total=   0.0s\n",
      "[CV] n_neighbors=77 ..................................................\n",
      "[CV] ...................... n_neighbors=77, score=0.688, total=   0.0s\n",
      "[CV] n_neighbors=77 ..................................................\n"
     ]
    },
    {
     "name": "stdout",
     "output_type": "stream",
     "text": [
      "[CV] ...................... n_neighbors=77, score=0.760, total=   0.0s\n",
      "[CV] n_neighbors=77 ..................................................\n",
      "[CV] ...................... n_neighbors=77, score=0.725, total=   0.0s\n",
      "[CV] n_neighbors=77 ..................................................\n",
      "[CV] ...................... n_neighbors=77, score=0.699, total=   0.0s\n",
      "[CV] n_neighbors=78 ..................................................\n",
      "[CV] ...................... n_neighbors=78, score=0.734, total=   0.0s\n",
      "[CV] n_neighbors=78 ..................................................\n",
      "[CV] ...................... n_neighbors=78, score=0.701, total=   0.0s\n",
      "[CV] n_neighbors=78 ..................................................\n",
      "[CV] ...................... n_neighbors=78, score=0.760, total=   0.0s\n",
      "[CV] n_neighbors=78 ..................................................\n",
      "[CV] ...................... n_neighbors=78, score=0.732, total=   0.0s\n",
      "[CV] n_neighbors=78 ..................................................\n",
      "[CV] ...................... n_neighbors=78, score=0.693, total=   0.0s\n",
      "[CV] n_neighbors=79 ..................................................\n",
      "[CV] ...................... n_neighbors=79, score=0.734, total=   0.0s\n",
      "[CV] n_neighbors=79 ..................................................\n",
      "[CV] ...................... n_neighbors=79, score=0.695, total=   0.0s\n",
      "[CV] n_neighbors=79 ..................................................\n",
      "[CV] ...................... n_neighbors=79, score=0.773, total=   0.0s\n",
      "[CV] n_neighbors=79 ..................................................\n",
      "[CV] ...................... n_neighbors=79, score=0.739, total=   0.0s\n",
      "[CV] n_neighbors=79 ..................................................\n",
      "[CV] ...................... n_neighbors=79, score=0.693, total=   0.0s\n",
      "[CV] n_neighbors=80 ..................................................\n",
      "[CV] ...................... n_neighbors=80, score=0.727, total=   0.0s\n",
      "[CV] n_neighbors=80 ..................................................\n",
      "[CV] ...................... n_neighbors=80, score=0.701, total=   0.0s\n",
      "[CV] n_neighbors=80 ..................................................\n",
      "[CV] ...................... n_neighbors=80, score=0.747, total=   0.0s\n",
      "[CV] n_neighbors=80 ..................................................\n",
      "[CV] ...................... n_neighbors=80, score=0.725, total=   0.0s\n",
      "[CV] n_neighbors=80 ..................................................\n",
      "[CV] ...................... n_neighbors=80, score=0.693, total=   0.0s\n",
      "[CV] n_neighbors=81 ..................................................\n",
      "[CV] ...................... n_neighbors=81, score=0.734, total=   0.0s\n",
      "[CV] n_neighbors=81 ..................................................\n",
      "[CV] ...................... n_neighbors=81, score=0.695, total=   0.0s\n",
      "[CV] n_neighbors=81 ..................................................\n",
      "[CV] ...................... n_neighbors=81, score=0.760, total=   0.0s\n",
      "[CV] n_neighbors=81 ..................................................\n",
      "[CV] ...................... n_neighbors=81, score=0.739, total=   0.0s\n",
      "[CV] n_neighbors=81 ..................................................\n",
      "[CV] ...................... n_neighbors=81, score=0.693, total=   0.0s\n",
      "[CV] n_neighbors=82 ..................................................\n",
      "[CV] ...................... n_neighbors=82, score=0.714, total=   0.0s\n",
      "[CV] n_neighbors=82 ..................................................\n",
      "[CV] ...................... n_neighbors=82, score=0.695, total=   0.0s\n",
      "[CV] n_neighbors=82 ..................................................\n",
      "[CV] ...................... n_neighbors=82, score=0.747, total=   0.0s\n",
      "[CV] n_neighbors=82 ..................................................\n",
      "[CV] ...................... n_neighbors=82, score=0.725, total=   0.0s\n",
      "[CV] n_neighbors=82 ..................................................\n",
      "[CV] ...................... n_neighbors=82, score=0.686, total=   0.0s\n",
      "[CV] n_neighbors=83 ..................................................\n",
      "[CV] ...................... n_neighbors=83, score=0.740, total=   0.0s\n",
      "[CV] n_neighbors=83 ..................................................\n",
      "[CV] ...................... n_neighbors=83, score=0.695, total=   0.0s\n",
      "[CV] n_neighbors=83 ..................................................\n",
      "[CV] ...................... n_neighbors=83, score=0.753, total=   0.0s\n",
      "[CV] n_neighbors=83 ..................................................\n",
      "[CV] ...................... n_neighbors=83, score=0.712, total=   0.0s\n",
      "[CV] n_neighbors=83 ..................................................\n",
      "[CV] ...................... n_neighbors=83, score=0.686, total=   0.0s\n",
      "[CV] n_neighbors=84 ..................................................\n",
      "[CV] ...................... n_neighbors=84, score=0.740, total=   0.0s\n",
      "[CV] n_neighbors=84 ..................................................\n",
      "[CV] ...................... n_neighbors=84, score=0.688, total=   0.0s\n",
      "[CV] n_neighbors=84 ..................................................\n",
      "[CV] ...................... n_neighbors=84, score=0.747, total=   0.0s\n",
      "[CV] n_neighbors=84 ..................................................\n",
      "[CV] ...................... n_neighbors=84, score=0.706, total=   0.0s\n",
      "[CV] n_neighbors=84 ..................................................\n",
      "[CV] ...................... n_neighbors=84, score=0.686, total=   0.0s\n",
      "[CV] n_neighbors=85 ..................................................\n",
      "[CV] ...................... n_neighbors=85, score=0.753, total=   0.0s\n",
      "[CV] n_neighbors=85 ..................................................\n",
      "[CV] ...................... n_neighbors=85, score=0.682, total=   0.0s\n",
      "[CV] n_neighbors=85 ..................................................\n",
      "[CV] ...................... n_neighbors=85, score=0.747, total=   0.0s\n",
      "[CV] n_neighbors=85 ..................................................\n",
      "[CV] ...................... n_neighbors=85, score=0.712, total=   0.0s\n",
      "[CV] n_neighbors=85 ..................................................\n",
      "[CV] ...................... n_neighbors=85, score=0.693, total=   0.0s\n",
      "[CV] n_neighbors=86 ..................................................\n",
      "[CV] ...................... n_neighbors=86, score=0.740, total=   0.0s\n",
      "[CV] n_neighbors=86 ..................................................\n",
      "[CV] ...................... n_neighbors=86, score=0.688, total=   0.0s\n",
      "[CV] n_neighbors=86 ..................................................\n",
      "[CV] ...................... n_neighbors=86, score=0.740, total=   0.0s\n",
      "[CV] n_neighbors=86 ..................................................\n",
      "[CV] ...................... n_neighbors=86, score=0.712, total=   0.0s\n",
      "[CV] n_neighbors=86 ..................................................\n",
      "[CV] ...................... n_neighbors=86, score=0.699, total=   0.0s\n",
      "[CV] n_neighbors=87 ..................................................\n",
      "[CV] ...................... n_neighbors=87, score=0.747, total=   0.0s\n",
      "[CV] n_neighbors=87 ..................................................\n",
      "[CV] ...................... n_neighbors=87, score=0.675, total=   0.0s\n",
      "[CV] n_neighbors=87 ..................................................\n",
      "[CV] ...................... n_neighbors=87, score=0.760, total=   0.0s\n",
      "[CV] n_neighbors=87 ..................................................\n",
      "[CV] ...................... n_neighbors=87, score=0.719, total=   0.0s\n",
      "[CV] n_neighbors=87 ..................................................\n",
      "[CV] ...................... n_neighbors=87, score=0.699, total=   0.0s\n",
      "[CV] n_neighbors=88 ..................................................\n",
      "[CV] ...................... n_neighbors=88, score=0.727, total=   0.0s\n",
      "[CV] n_neighbors=88 ..................................................\n",
      "[CV] ...................... n_neighbors=88, score=0.675, total=   0.0s\n",
      "[CV] n_neighbors=88 ..................................................\n",
      "[CV] ...................... n_neighbors=88, score=0.747, total=   0.0s\n",
      "[CV] n_neighbors=88 ..................................................\n",
      "[CV] ...................... n_neighbors=88, score=0.719, total=   0.0s\n",
      "[CV] n_neighbors=88 ..................................................\n",
      "[CV] ...................... n_neighbors=88, score=0.706, total=   0.0s\n",
      "[CV] n_neighbors=89 ..................................................\n",
      "[CV] ...................... n_neighbors=89, score=0.747, total=   0.0s\n",
      "[CV] n_neighbors=89 ..................................................\n",
      "[CV] ...................... n_neighbors=89, score=0.682, total=   0.0s\n",
      "[CV] n_neighbors=89 ..................................................\n",
      "[CV] ...................... n_neighbors=89, score=0.747, total=   0.0s\n",
      "[CV] n_neighbors=89 ..................................................\n",
      "[CV] ...................... n_neighbors=89, score=0.719, total=   0.0s\n",
      "[CV] n_neighbors=89 ..................................................\n",
      "[CV] ...................... n_neighbors=89, score=0.693, total=   0.0s\n",
      "[CV] n_neighbors=90 ..................................................\n",
      "[CV] ...................... n_neighbors=90, score=0.727, total=   0.0s\n",
      "[CV] n_neighbors=90 ..................................................\n",
      "[CV] ...................... n_neighbors=90, score=0.682, total=   0.0s\n",
      "[CV] n_neighbors=90 ..................................................\n",
      "[CV] ...................... n_neighbors=90, score=0.740, total=   0.0s\n",
      "[CV] n_neighbors=90 ..................................................\n",
      "[CV] ...................... n_neighbors=90, score=0.719, total=   0.0s\n",
      "[CV] n_neighbors=90 ..................................................\n",
      "[CV] ...................... n_neighbors=90, score=0.686, total=   0.0s\n",
      "[CV] n_neighbors=91 ..................................................\n",
      "[CV] ...................... n_neighbors=91, score=0.734, total=   0.0s\n",
      "[CV] n_neighbors=91 ..................................................\n"
     ]
    },
    {
     "name": "stdout",
     "output_type": "stream",
     "text": [
      "[CV] ...................... n_neighbors=91, score=0.682, total=   0.0s\n",
      "[CV] n_neighbors=91 ..................................................\n",
      "[CV] ...................... n_neighbors=91, score=0.740, total=   0.0s\n",
      "[CV] n_neighbors=91 ..................................................\n",
      "[CV] ...................... n_neighbors=91, score=0.725, total=   0.0s\n",
      "[CV] n_neighbors=91 ..................................................\n",
      "[CV] ...................... n_neighbors=91, score=0.693, total=   0.0s\n",
      "[CV] n_neighbors=92 ..................................................\n",
      "[CV] ...................... n_neighbors=92, score=0.721, total=   0.0s\n",
      "[CV] n_neighbors=92 ..................................................\n",
      "[CV] ...................... n_neighbors=92, score=0.695, total=   0.0s\n",
      "[CV] n_neighbors=92 ..................................................\n",
      "[CV] ...................... n_neighbors=92, score=0.740, total=   0.0s\n",
      "[CV] n_neighbors=92 ..................................................\n",
      "[CV] ...................... n_neighbors=92, score=0.712, total=   0.0s\n",
      "[CV] n_neighbors=92 ..................................................\n",
      "[CV] ...................... n_neighbors=92, score=0.699, total=   0.0s\n",
      "[CV] n_neighbors=93 ..................................................\n",
      "[CV] ...................... n_neighbors=93, score=0.708, total=   0.0s\n",
      "[CV] n_neighbors=93 ..................................................\n",
      "[CV] ...................... n_neighbors=93, score=0.688, total=   0.0s\n",
      "[CV] n_neighbors=93 ..................................................\n",
      "[CV] ...................... n_neighbors=93, score=0.740, total=   0.0s\n",
      "[CV] n_neighbors=93 ..................................................\n",
      "[CV] ...................... n_neighbors=93, score=0.725, total=   0.0s\n",
      "[CV] n_neighbors=93 ..................................................\n",
      "[CV] ...................... n_neighbors=93, score=0.706, total=   0.0s\n",
      "[CV] n_neighbors=94 ..................................................\n",
      "[CV] ...................... n_neighbors=94, score=0.721, total=   0.0s\n",
      "[CV] n_neighbors=94 ..................................................\n",
      "[CV] ...................... n_neighbors=94, score=0.695, total=   0.0s\n",
      "[CV] n_neighbors=94 ..................................................\n",
      "[CV] ...................... n_neighbors=94, score=0.740, total=   0.0s\n",
      "[CV] n_neighbors=94 ..................................................\n",
      "[CV] ...................... n_neighbors=94, score=0.712, total=   0.0s\n",
      "[CV] n_neighbors=94 ..................................................\n",
      "[CV] ...................... n_neighbors=94, score=0.693, total=   0.0s\n",
      "[CV] n_neighbors=95 ..................................................\n",
      "[CV] ...................... n_neighbors=95, score=0.727, total=   0.0s\n",
      "[CV] n_neighbors=95 ..................................................\n",
      "[CV] ...................... n_neighbors=95, score=0.701, total=   0.0s\n",
      "[CV] n_neighbors=95 ..................................................\n",
      "[CV] ...................... n_neighbors=95, score=0.734, total=   0.0s\n",
      "[CV] n_neighbors=95 ..................................................\n",
      "[CV] ...................... n_neighbors=95, score=0.719, total=   0.0s\n",
      "[CV] n_neighbors=95 ..................................................\n",
      "[CV] ...................... n_neighbors=95, score=0.706, total=   0.0s\n",
      "[CV] n_neighbors=96 ..................................................\n",
      "[CV] ...................... n_neighbors=96, score=0.714, total=   0.0s\n",
      "[CV] n_neighbors=96 ..................................................\n",
      "[CV] ...................... n_neighbors=96, score=0.701, total=   0.0s\n",
      "[CV] n_neighbors=96 ..................................................\n",
      "[CV] ...................... n_neighbors=96, score=0.740, total=   0.0s\n",
      "[CV] n_neighbors=96 ..................................................\n",
      "[CV] ...................... n_neighbors=96, score=0.712, total=   0.0s\n",
      "[CV] n_neighbors=96 ..................................................\n",
      "[CV] ...................... n_neighbors=96, score=0.693, total=   0.0s\n",
      "[CV] n_neighbors=97 ..................................................\n",
      "[CV] ...................... n_neighbors=97, score=0.721, total=   0.0s\n",
      "[CV] n_neighbors=97 ..................................................\n",
      "[CV] ...................... n_neighbors=97, score=0.695, total=   0.0s\n",
      "[CV] n_neighbors=97 ..................................................\n",
      "[CV] ...................... n_neighbors=97, score=0.734, total=   0.0s\n",
      "[CV] n_neighbors=97 ..................................................\n",
      "[CV] ...................... n_neighbors=97, score=0.719, total=   0.0s\n",
      "[CV] n_neighbors=97 ..................................................\n",
      "[CV] ...................... n_neighbors=97, score=0.693, total=   0.0s\n",
      "[CV] n_neighbors=98 ..................................................\n",
      "[CV] ...................... n_neighbors=98, score=0.721, total=   0.0s\n",
      "[CV] n_neighbors=98 ..................................................\n",
      "[CV] ...................... n_neighbors=98, score=0.695, total=   0.0s\n",
      "[CV] n_neighbors=98 ..................................................\n",
      "[CV] ...................... n_neighbors=98, score=0.747, total=   0.0s\n",
      "[CV] n_neighbors=98 ..................................................\n",
      "[CV] ...................... n_neighbors=98, score=0.712, total=   0.0s\n",
      "[CV] n_neighbors=98 ..................................................\n",
      "[CV] ...................... n_neighbors=98, score=0.693, total=   0.0s\n",
      "[CV] n_neighbors=99 ..................................................\n",
      "[CV] ...................... n_neighbors=99, score=0.714, total=   0.0s\n",
      "[CV] n_neighbors=99 ..................................................\n",
      "[CV] ...................... n_neighbors=99, score=0.701, total=   0.0s\n",
      "[CV] n_neighbors=99 ..................................................\n",
      "[CV] ...................... n_neighbors=99, score=0.747, total=   0.0s\n",
      "[CV] n_neighbors=99 ..................................................\n",
      "[CV] ...................... n_neighbors=99, score=0.719, total=   0.0s\n",
      "[CV] n_neighbors=99 ..................................................\n",
      "[CV] ...................... n_neighbors=99, score=0.693, total=   0.0s\n"
     ]
    },
    {
     "name": "stderr",
     "output_type": "stream",
     "text": [
      "[Parallel(n_jobs=1)]: Done 490 out of 490 | elapsed:    4.3s finished\n"
     ]
    },
    {
     "data": {
      "text/plain": [
       "GridSearchCV(cv=5, error_score='raise-deprecating',\n",
       "             estimator=KNeighborsClassifier(algorithm='auto', leaf_size=30,\n",
       "                                            metric='minkowski',\n",
       "                                            metric_params=None, n_jobs=None,\n",
       "                                            n_neighbors=5, p=2,\n",
       "                                            weights='uniform'),\n",
       "             iid='warn', n_jobs=None,\n",
       "             param_grid={'n_neighbors': array([ 2,  3,  4,  5,  6,  7,  8,  9, 10, 11, 12, 13, 14, 15, 16, 17, 18,\n",
       "       19, 20, 21, 22, 23, 24, 25, 26, 27, 28, 29, 30, 31, 32, 33, 34, 35,\n",
       "       36, 37, 38, 39, 40, 41, 42, 43, 44, 45, 46, 47, 48, 49, 50, 51, 52,\n",
       "       53, 54, 55, 56, 57, 58, 59, 60, 61, 62, 63, 64, 65, 66, 67, 68, 69,\n",
       "       70, 71, 72, 73, 74, 75, 76, 77, 78, 79, 80, 81, 82, 83, 84, 85, 86,\n",
       "       87, 88, 89, 90, 91, 92, 93, 94, 95, 96, 97, 98, 99])},\n",
       "             pre_dispatch='2*n_jobs', refit=True, return_train_score=False,\n",
       "             scoring='accuracy', verbose=9)"
      ]
     },
     "execution_count": 14,
     "metadata": {},
     "output_type": "execute_result"
    }
   ],
   "source": [
    "clfk.fit(X,y)"
   ]
  },
  {
   "cell_type": "code",
   "execution_count": 15,
   "metadata": {},
   "outputs": [
    {
     "data": {
      "text/plain": [
       "0.7578125"
      ]
     },
     "execution_count": 15,
     "metadata": {},
     "output_type": "execute_result"
    }
   ],
   "source": [
    "clfk.best_score_"
   ]
  },
  {
   "cell_type": "code",
   "execution_count": 16,
   "metadata": {},
   "outputs": [],
   "source": [
    "# Load the library\n",
    "from sklearn.svm import SVC\n",
    "# Create an instance of the classifier\n",
    "clf = SVC(kernel=\"linear\",C=10)"
   ]
  },
  {
   "cell_type": "code",
   "execution_count": 17,
   "metadata": {},
   "outputs": [],
   "source": [
    "#cross_val_score(clf,X,y,cv=5,scoring=\"accuracy\").mean()"
   ]
  },
  {
   "cell_type": "code",
   "execution_count": 18,
   "metadata": {},
   "outputs": [],
   "source": [
    "# Dec Tree 75%"
   ]
  },
  {
   "cell_type": "code",
   "execution_count": 19,
   "metadata": {},
   "outputs": [
    {
     "data": {
      "text/plain": [
       "DecisionTreeClassifier(class_weight=None, criterion='gini', max_depth=4,\n",
       "                       max_features=None, max_leaf_nodes=None,\n",
       "                       min_impurity_decrease=0.0, min_impurity_split=None,\n",
       "                       min_samples_leaf=16, min_samples_split=2,\n",
       "                       min_weight_fraction_leaf=0.0, presort=False,\n",
       "                       random_state=None, splitter='best')"
      ]
     },
     "execution_count": 19,
     "metadata": {},
     "output_type": "execute_result"
    }
   ],
   "source": [
    "# Import Library\n",
    "from sklearn.tree import DecisionTreeClassifier\n",
    "# Create instance\n",
    "clf = DecisionTreeClassifier(min_samples_leaf=16,max_depth=4)\n",
    "# Fit\n",
    "clf.fit(X,y)"
   ]
  },
  {
   "cell_type": "code",
   "execution_count": 20,
   "metadata": {},
   "outputs": [],
   "source": [
    "import pickle"
   ]
  },
  {
   "cell_type": "code",
   "execution_count": 21,
   "metadata": {},
   "outputs": [],
   "source": [
    "pickle.dump(clf,open(\"modelo.pkl\",\"wb\"))"
   ]
  },
  {
   "cell_type": "code",
   "execution_count": 22,
   "metadata": {},
   "outputs": [],
   "source": [
    "# REcuperado"
   ]
  },
  {
   "cell_type": "code",
   "execution_count": 23,
   "metadata": {},
   "outputs": [],
   "source": [
    "clf_loaded = pickle.load(open(\"modelo.pkl\",\"rb\"))"
   ]
  },
  {
   "cell_type": "code",
   "execution_count": 24,
   "metadata": {},
   "outputs": [
    {
     "data": {
      "text/plain": [
       "DecisionTreeClassifier(class_weight=None, criterion='gini', max_depth=4,\n",
       "                       max_features=None, max_leaf_nodes=None,\n",
       "                       min_impurity_decrease=0.0, min_impurity_split=None,\n",
       "                       min_samples_leaf=16, min_samples_split=2,\n",
       "                       min_weight_fraction_leaf=0.0, presort=False,\n",
       "                       random_state=None, splitter='best')"
      ]
     },
     "execution_count": 24,
     "metadata": {},
     "output_type": "execute_result"
    }
   ],
   "source": [
    "clf_loaded"
   ]
  },
  {
   "cell_type": "code",
   "execution_count": 25,
   "metadata": {},
   "outputs": [],
   "source": [
    "from sklearn.ensemble import VotingClassifier"
   ]
  },
  {
   "cell_type": "code",
   "execution_count": 26,
   "metadata": {},
   "outputs": [],
   "source": [
    "clf = VotingClassifier(estimators=[(\"dectree\",clf_loaded),(\"log\",LogisticRegression())])"
   ]
  },
  {
   "cell_type": "code",
   "execution_count": 27,
   "metadata": {
    "scrolled": false
   },
   "outputs": [
    {
     "name": "stderr",
     "output_type": "stream",
     "text": [
      "/home/angelrps/anaconda3/lib/python3.7/site-packages/sklearn/model_selection/_split.py:1978: FutureWarning: The default value of cv will change from 3 to 5 in version 0.22. Specify it explicitly to silence this warning.\n",
      "  warnings.warn(CV_WARNING, FutureWarning)\n",
      "/home/angelrps/anaconda3/lib/python3.7/site-packages/sklearn/linear_model/logistic.py:432: FutureWarning: Default solver will be changed to 'lbfgs' in 0.22. Specify a solver to silence this warning.\n",
      "  FutureWarning)\n",
      "/home/angelrps/anaconda3/lib/python3.7/site-packages/sklearn/linear_model/logistic.py:432: FutureWarning: Default solver will be changed to 'lbfgs' in 0.22. Specify a solver to silence this warning.\n",
      "  FutureWarning)\n",
      "/home/angelrps/anaconda3/lib/python3.7/site-packages/sklearn/linear_model/logistic.py:432: FutureWarning: Default solver will be changed to 'lbfgs' in 0.22. Specify a solver to silence this warning.\n",
      "  FutureWarning)\n"
     ]
    },
    {
     "data": {
      "text/plain": [
       "0.7643968076854607"
      ]
     },
     "execution_count": 27,
     "metadata": {},
     "output_type": "execute_result"
    }
   ],
   "source": [
    "cross_val_score(clf,X,y,scoring=\"accuracy\").mean()"
   ]
  },
  {
   "cell_type": "code",
   "execution_count": 41,
   "metadata": {},
   "outputs": [],
   "source": [
    "from sklearn.ensemble import VotingClassifier\n",
    "\n",
    "# Specify voting classifiers as a list of (name, sub-estimator) \n",
    "from sklearn.tree import DecisionTreeClassifier\n",
    "from sklearn.linear_model import LogisticRegression\n",
    "\n",
    "classifiers = [('dectree', DecisionTreeClassifier(min_samples_leaf=16, max_depth=4)),\n",
    "                ('log', LogisticRegression())]\n",
    "\n",
    "# Create VotingClassifier\n",
    "clf = VotingClassifier(estimators = classifiers)"
   ]
  },
  {
   "cell_type": "code",
   "execution_count": 46,
   "metadata": {},
   "outputs": [],
   "source": [
    "from sklearn.ensemble import BaggingClassifier"
   ]
  },
  {
   "cell_type": "code",
   "execution_count": 47,
   "metadata": {},
   "outputs": [],
   "source": [
    "clf=BaggingClassifier(base_estimator=KNeighborsClassifier(n_neighbors=4),n_estimators=100,oob_score=True)"
   ]
  },
  {
   "cell_type": "code",
   "execution_count": 48,
   "metadata": {
    "scrolled": true
   },
   "outputs": [
    {
     "data": {
      "text/plain": [
       "BaggingClassifier(base_estimator=KNeighborsClassifier(algorithm='auto',\n",
       "                                                      leaf_size=30,\n",
       "                                                      metric='minkowski',\n",
       "                                                      metric_params=None,\n",
       "                                                      n_jobs=None,\n",
       "                                                      n_neighbors=4, p=2,\n",
       "                                                      weights='uniform'),\n",
       "                  bootstrap=True, bootstrap_features=False, max_features=1.0,\n",
       "                  max_samples=1.0, n_estimators=100, n_jobs=None,\n",
       "                  oob_score=True, random_state=None, verbose=0,\n",
       "                  warm_start=False)"
      ]
     },
     "execution_count": 48,
     "metadata": {},
     "output_type": "execute_result"
    }
   ],
   "source": [
    "clf.fit(X,y)"
   ]
  },
  {
   "cell_type": "code",
   "execution_count": 49,
   "metadata": {},
   "outputs": [
    {
     "name": "stderr",
     "output_type": "stream",
     "text": [
      "/home/angelrps/anaconda3/lib/python3.7/site-packages/sklearn/model_selection/_split.py:1978: FutureWarning: The default value of cv will change from 3 to 5 in version 0.22. Specify it explicitly to silence this warning.\n",
      "  warnings.warn(CV_WARNING, FutureWarning)\n"
     ]
    },
    {
     "data": {
      "text/plain": [
       "0.7109243470410215"
      ]
     },
     "execution_count": 49,
     "metadata": {},
     "output_type": "execute_result"
    }
   ],
   "source": [
    "cross_val_score(clf,X,y,scoring=\"accuracy\").mean()"
   ]
  },
  {
   "cell_type": "code",
   "execution_count": 50,
   "metadata": {},
   "outputs": [
    {
     "data": {
      "text/plain": [
       "0.7161458333333334"
      ]
     },
     "execution_count": 50,
     "metadata": {},
     "output_type": "execute_result"
    }
   ],
   "source": [
    "clf.oob_score_"
   ]
  },
  {
   "cell_type": "code",
   "execution_count": 43,
   "metadata": {},
   "outputs": [],
   "source": [
    "clf_2=BaggingClassifier(base_estimator=KNeighborsClassifier(n_neighbors=4),n_estimators=100,oob_score=False)"
   ]
  },
  {
   "cell_type": "code",
   "execution_count": 53,
   "metadata": {
    "scrolled": true
   },
   "outputs": [
    {
     "data": {
      "text/plain": [
       "BaggingClassifier(base_estimator=KNeighborsClassifier(algorithm='auto',\n",
       "                                                      leaf_size=30,\n",
       "                                                      metric='minkowski',\n",
       "                                                      metric_params=None,\n",
       "                                                      n_jobs=None,\n",
       "                                                      n_neighbors=4, p=2,\n",
       "                                                      weights='uniform'),\n",
       "                  bootstrap=True, bootstrap_features=False, max_features=1.0,\n",
       "                  max_samples=1.0, n_estimators=100, n_jobs=None,\n",
       "                  oob_score=False, random_state=None, verbose=0,\n",
       "                  warm_start=False)"
      ]
     },
     "execution_count": 53,
     "metadata": {},
     "output_type": "execute_result"
    }
   ],
   "source": [
    "clf_2.fit(X,y)"
   ]
  },
  {
   "cell_type": "code",
   "execution_count": 33,
   "metadata": {},
   "outputs": [],
   "source": [
    "# Random Forest\n",
    "from sklearn.ensemble import RandomForestClassifier"
   ]
  },
  {
   "cell_type": "code",
   "execution_count": 34,
   "metadata": {},
   "outputs": [],
   "source": [
    "clf = RandomForestClassifier(max_depth=3,\n",
    "                             min_samples_leaf=20,\n",
    "                             n_estimators=100,\n",
    "                            n_jobs=-1)"
   ]
  },
  {
   "cell_type": "code",
   "execution_count": 35,
   "metadata": {},
   "outputs": [
    {
     "name": "stderr",
     "output_type": "stream",
     "text": [
      "/home/angelrps/anaconda3/lib/python3.7/site-packages/sklearn/model_selection/_split.py:1978: FutureWarning: The default value of cv will change from 3 to 5 in version 0.22. Specify it explicitly to silence this warning.\n",
      "  warnings.warn(CV_WARNING, FutureWarning)\n"
     ]
    },
    {
     "data": {
      "text/plain": [
       "0.7487461971656367"
      ]
     },
     "execution_count": 35,
     "metadata": {},
     "output_type": "execute_result"
    }
   ],
   "source": [
    "cross_val_score(clf,X,y).mean()"
   ]
  },
  {
   "cell_type": "code",
   "execution_count": 36,
   "metadata": {},
   "outputs": [
    {
     "ename": "ModuleNotFoundError",
     "evalue": "No module named 'eli5'",
     "output_type": "error",
     "traceback": [
      "\u001b[0;31m---------------------------------------------------------------------------\u001b[0m",
      "\u001b[0;31mModuleNotFoundError\u001b[0m                       Traceback (most recent call last)",
      "\u001b[0;32m<ipython-input-36-e472a5914de6>\u001b[0m in \u001b[0;36m<module>\u001b[0;34m\u001b[0m\n\u001b[0;32m----> 1\u001b[0;31m \u001b[0;32mimport\u001b[0m \u001b[0meli5\u001b[0m\u001b[0;34m\u001b[0m\u001b[0;34m\u001b[0m\u001b[0m\n\u001b[0m",
      "\u001b[0;31mModuleNotFoundError\u001b[0m: No module named 'eli5'"
     ]
    }
   ],
   "source": [
    "import eli5"
   ]
  },
  {
   "cell_type": "code",
   "execution_count": 37,
   "metadata": {},
   "outputs": [],
   "source": [
    "from sklearn.model_selection import train_test_split\n",
    "X_train, X_test, y_train, y_test = train_test_split(X, y, test_size=0.10)"
   ]
  },
  {
   "cell_type": "code",
   "execution_count": 38,
   "metadata": {},
   "outputs": [
    {
     "name": "stderr",
     "output_type": "stream",
     "text": [
      "/home/angelrps/anaconda3/lib/python3.7/site-packages/sklearn/ensemble/forest.py:245: FutureWarning: The default value of n_estimators will change from 10 in version 0.20 to 100 in 0.22.\n",
      "  \"10 in version 0.20 to 100 in 0.22.\", FutureWarning)\n"
     ]
    },
    {
     "data": {
      "text/plain": [
       "RandomForestClassifier(bootstrap=True, class_weight=None, criterion='gini',\n",
       "                       max_depth=4, max_features='auto', max_leaf_nodes=None,\n",
       "                       min_impurity_decrease=0.0, min_impurity_split=None,\n",
       "                       min_samples_leaf=1, min_samples_split=2,\n",
       "                       min_weight_fraction_leaf=0.0, n_estimators=10,\n",
       "                       n_jobs=None, oob_score=False, random_state=None,\n",
       "                       verbose=0, warm_start=False)"
      ]
     },
     "execution_count": 38,
     "metadata": {},
     "output_type": "execute_result"
    }
   ],
   "source": [
    "clf=RandomForestClassifier(max_depth=4)\n",
    "clf.fit(X_train,y_train)"
   ]
  },
  {
   "cell_type": "markdown",
   "metadata": {},
   "source": [
    "# Partial Dependence Plot"
   ]
  },
  {
   "cell_type": "code",
   "execution_count": 39,
   "metadata": {},
   "outputs": [
    {
     "ename": "ModuleNotFoundError",
     "evalue": "No module named 'pdpbox'",
     "output_type": "error",
     "traceback": [
      "\u001b[0;31m---------------------------------------------------------------------------\u001b[0m",
      "\u001b[0;31mModuleNotFoundError\u001b[0m                       Traceback (most recent call last)",
      "\u001b[0;32m<ipython-input-39-c55be77e8d07>\u001b[0m in \u001b[0;36m<module>\u001b[0;34m\u001b[0m\n\u001b[0;32m----> 1\u001b[0;31m \u001b[0;32mfrom\u001b[0m \u001b[0mpdpbox\u001b[0m \u001b[0;32mimport\u001b[0m \u001b[0mpdp\u001b[0m\u001b[0;34m\u001b[0m\u001b[0;34m\u001b[0m\u001b[0m\n\u001b[0m",
      "\u001b[0;31mModuleNotFoundError\u001b[0m: No module named 'pdpbox'"
     ]
    }
   ],
   "source": [
    "from pdpbox import pdp"
   ]
  },
  {
   "cell_type": "code",
   "execution_count": 40,
   "metadata": {},
   "outputs": [
    {
     "ename": "NameError",
     "evalue": "name 'pdp' is not defined",
     "output_type": "error",
     "traceback": [
      "\u001b[0;31m---------------------------------------------------------------------------\u001b[0m",
      "\u001b[0;31mNameError\u001b[0m                                 Traceback (most recent call last)",
      "\u001b[0;32m<ipython-input-40-7ebd86dd5737>\u001b[0m in \u001b[0;36m<module>\u001b[0;34m\u001b[0m\n\u001b[0;32m----> 1\u001b[0;31m \u001b[0mpdp_goals\u001b[0m \u001b[0;34m=\u001b[0m \u001b[0mpdp\u001b[0m\u001b[0;34m.\u001b[0m\u001b[0mpdp_isolate\u001b[0m\u001b[0;34m(\u001b[0m\u001b[0mmodel\u001b[0m\u001b[0;34m=\u001b[0m\u001b[0mclf\u001b[0m\u001b[0;34m,\u001b[0m \u001b[0mdataset\u001b[0m\u001b[0;34m=\u001b[0m\u001b[0mX_test\u001b[0m\u001b[0;34m,\u001b[0m \u001b[0mmodel_features\u001b[0m\u001b[0;34m=\u001b[0m\u001b[0mX\u001b[0m\u001b[0;34m.\u001b[0m\u001b[0mcolumns\u001b[0m\u001b[0;34m,\u001b[0m \u001b[0mfeature\u001b[0m\u001b[0;34m=\u001b[0m\u001b[0;34m'Glucose'\u001b[0m\u001b[0;34m)\u001b[0m\u001b[0;34m\u001b[0m\u001b[0;34m\u001b[0m\u001b[0m\n\u001b[0m\u001b[1;32m      2\u001b[0m \u001b[0mpdp\u001b[0m\u001b[0;34m.\u001b[0m\u001b[0mpdp_plot\u001b[0m\u001b[0;34m(\u001b[0m\u001b[0mpdp_goals\u001b[0m\u001b[0;34m,\u001b[0m \u001b[0;34m'Feature'\u001b[0m\u001b[0;34m)\u001b[0m\u001b[0;34m\u001b[0m\u001b[0;34m\u001b[0m\u001b[0m\n\u001b[1;32m      3\u001b[0m \u001b[0mplt\u001b[0m\u001b[0;34m.\u001b[0m\u001b[0mshow\u001b[0m\u001b[0;34m(\u001b[0m\u001b[0;34m)\u001b[0m\u001b[0;34m\u001b[0m\u001b[0;34m\u001b[0m\u001b[0m\n",
      "\u001b[0;31mNameError\u001b[0m: name 'pdp' is not defined"
     ]
    }
   ],
   "source": [
    "pdp_goals = pdp.pdp_isolate(model=clf, dataset=X_test, model_features=X.columns, feature='Glucose')\n",
    "pdp.pdp_plot(pdp_goals, 'Feature')\n",
    "plt.show()"
   ]
  },
  {
   "cell_type": "markdown",
   "metadata": {},
   "source": [
    "# Shap Values"
   ]
  },
  {
   "cell_type": "code",
   "execution_count": null,
   "metadata": {},
   "outputs": [],
   "source": [
    "import shap\n",
    "# load JS visualization code to notebook\n",
    "shap.initjs()"
   ]
  },
  {
   "cell_type": "code",
   "execution_count": null,
   "metadata": {},
   "outputs": [],
   "source": [
    "# explain the model's predictions using SHAP values\n",
    "explainer = shap.TreeExplainer(clf)\n",
    "shap_values = explainer.shap_values(X_test)"
   ]
  },
  {
   "cell_type": "code",
   "execution_count": null,
   "metadata": {},
   "outputs": [],
   "source": [
    "shap.force_plot(explainer.expected_value[1], shap_values[1][6,:], feature_names=X.columns)"
   ]
  },
  {
   "cell_type": "code",
   "execution_count": null,
   "metadata": {},
   "outputs": [],
   "source": []
  },
  {
   "cell_type": "code",
   "execution_count": null,
   "metadata": {},
   "outputs": [],
   "source": []
  },
  {
   "cell_type": "code",
   "execution_count": null,
   "metadata": {},
   "outputs": [],
   "source": []
  }
 ],
 "metadata": {
  "kernelspec": {
   "display_name": "Python 3",
   "language": "python",
   "name": "python3"
  },
  "language_info": {
   "codemirror_mode": {
    "name": "ipython",
    "version": 3
   },
   "file_extension": ".py",
   "mimetype": "text/x-python",
   "name": "python",
   "nbconvert_exporter": "python",
   "pygments_lexer": "ipython3",
   "version": "3.7.4"
  }
 },
 "nbformat": 4,
 "nbformat_minor": 2
}
