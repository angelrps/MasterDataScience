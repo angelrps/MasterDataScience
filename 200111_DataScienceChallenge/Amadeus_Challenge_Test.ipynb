{
 "cells": [
  {
   "cell_type": "code",
   "execution_count": 59,
   "metadata": {},
   "outputs": [],
   "source": [
    "import pandas as pd\n",
    "import numpy as np\n",
    "import matplotlib.pyplot as plt\n",
    "%matplotlib inline"
   ]
  },
  {
   "cell_type": "code",
   "execution_count": 2,
   "metadata": {},
   "outputs": [],
   "source": [
    "import bz2"
   ]
  },
  {
   "cell_type": "markdown",
   "metadata": {},
   "source": [
    "### Ejercicio 1\n",
    "#### Count the number of lines in Python for each file"
   ]
  },
  {
   "cell_type": "code",
   "execution_count": 3,
   "metadata": {},
   "outputs": [
    {
     "name": "stdout",
     "output_type": "stream",
     "text": [
      "total 1014736\r\n",
      "-rw-rw-rw- 1 angelrps angelrps    523313 Jan  8 16:31  01_intro_to_DS_toolkit_inclass.ipynb\r\n",
      "-rw-rw-rw- 1 angelrps angelrps     50785 Jan  8 12:52  02-loading_and_saving_data_inclass.ipynb\r\n",
      "-rw-rw-rw- 1 angelrps angelrps    142691 Jan  9 10:07  04-group_by_MINE.ipynb\r\n",
      "-rwxrwxrwx 1 angelrps angelrps    173167 Jan  8 10:13  10-11_Python_AmadChall_v19.pptx\r\n",
      "-rw-rw-rw- 1 angelrps angelrps      8911 Jan  9 10:58 'Amadeus Challenge_Test.ipynb'\r\n",
      "-rw-rw-rw- 1 angelrps angelrps 554970628 Jan  9 09:44  bookings.csv.bz2\r\n",
      "---------- 1 angelrps angelrps      4634 Jan  8 14:40 'bookings11.csv - copia'\r\n",
      "-rw-rw-rw- 1 angelrps angelrps      1346 Jan  8 14:40 'bookings11.csv - copia.bz2'\r\n",
      "-rw-rw-rw- 1 angelrps angelrps      1346 Jan  8 14:40  bookings11.csv.bz2\r\n",
      "-rw-rw-rw- 1 angelrps angelrps 483188920 Jan  9 09:44  searches.csv.bz2\r\n",
      "-rw-rw-rw- 1 angelrps angelrps       364 Jan  8 13:06  testcsvfile.csv.bz2\r\n",
      "-rwxrwxrwx 1 angelrps angelrps       165 Jan  8 10:19 '~$10-11_Python_AmadChall_v19.pptx'\r\n"
     ]
    }
   ],
   "source": [
    "!ls -l"
   ]
  },
  {
   "cell_type": "code",
   "execution_count": 4,
   "metadata": {},
   "outputs": [
    {
     "name": "stdout",
     "output_type": "stream",
     "text": [
      "10000011\r\n"
     ]
    }
   ],
   "source": [
    "!bzcat bookings.csv.bz2 | wc -l\n",
    "#result was 100000 11\n",
    "#time processing 1' 28''"
   ]
  },
  {
   "cell_type": "code",
   "execution_count": 5,
   "metadata": {},
   "outputs": [
    {
     "name": "stdout",
     "output_type": "stream",
     "text": [
      "20390198\r\n"
     ]
    }
   ],
   "source": [
    "!bzcat searches.csv.bz2 | wc -l\n",
    "#result was 20390198\n",
    "#time processing 1' 30''"
   ]
  },
  {
   "cell_type": "code",
   "execution_count": 6,
   "metadata": {},
   "outputs": [
    {
     "name": "stderr",
     "output_type": "stream",
     "text": [
      "/home/angelrps/anaconda3/lib/python3.7/site-packages/IPython/core/interactiveshell.py:3058: DtypeWarning: Columns (7,8,27) have mixed types. Specify dtype option on import or set low_memory=False.\n",
      "  interactivity=interactivity, compiler=compiler, result=result)\n"
     ]
    },
    {
     "data": {
      "text/plain": [
       "10000010"
      ]
     },
     "execution_count": 6,
     "metadata": {},
     "output_type": "execute_result"
    }
   ],
   "source": [
    "bookingsfile = bz2.open(\"./bookings.csv.bz2\")\n",
    "dfbookings = pd.read_csv(bookingsfile, sep='^')\n",
    "len(dfbookings.index)\n",
    "#time processing 2' 58''"
   ]
  },
  {
   "cell_type": "code",
   "execution_count": 7,
   "metadata": {},
   "outputs": [
    {
     "name": "stderr",
     "output_type": "stream",
     "text": [
      "/home/angelrps/anaconda3/lib/python3.7/site-packages/IPython/core/interactiveshell.py:3058: DtypeWarning: Columns (40,41,42,44) have mixed types. Specify dtype option on import or set low_memory=False.\n",
      "  interactivity=interactivity, compiler=compiler, result=result)\n"
     ]
    },
    {
     "data": {
      "text/plain": [
       "20390198"
      ]
     },
     "execution_count": 7,
     "metadata": {},
     "output_type": "execute_result"
    }
   ],
   "source": [
    "searchesfile = bz2.open(\"./searches.csv.bz2\")\n",
    "dfsearches = pd.read_csv(searchesfile, sep='^')\n",
    "len(dfsearches.index)\n",
    "#time processing 6' 54''"
   ]
  },
  {
   "cell_type": "markdown",
   "metadata": {},
   "source": [
    "### Ejercicio 2\n",
    "#### Top 10 arrival airports in the world in 2013 (using the bookings file)\n",
    "\n",
    "- Arrival airport is the column arr_port. It is the IATA code for the airport.\n",
    "- To get the total number of passengers for an airport, you can sum the column pax, grouping by arr_port. Note that there is negative pax. That corresponds to cancelations. So to get the total number of passengers that have actually booked, you should sum including the negatives (that will remove the canceled bookings).\n",
    "- Print the top 10 arrival airports in the standard output, including the number of passengers.\n",
    "\n",
    "- Bonus point: Get the name of the city or airport corresponding to that airport (programatically, we suggest to have a look at GeoBases in Github)\n",
    "- Bonus point: Solve this problem using pandas (instead of any other approach)"
   ]
  },
  {
   "cell_type": "code",
   "execution_count": 8,
   "metadata": {},
   "outputs": [
    {
     "data": {
      "text/html": [
       "<div>\n",
       "<style scoped>\n",
       "    .dataframe tbody tr th:only-of-type {\n",
       "        vertical-align: middle;\n",
       "    }\n",
       "\n",
       "    .dataframe tbody tr th {\n",
       "        vertical-align: top;\n",
       "    }\n",
       "\n",
       "    .dataframe thead th {\n",
       "        text-align: right;\n",
       "    }\n",
       "</style>\n",
       "<table border=\"1\" class=\"dataframe\">\n",
       "  <thead>\n",
       "    <tr style=\"text-align: right;\">\n",
       "      <th></th>\n",
       "      <th>pax</th>\n",
       "    </tr>\n",
       "    <tr>\n",
       "      <th>arr_port</th>\n",
       "      <th></th>\n",
       "    </tr>\n",
       "  </thead>\n",
       "  <tbody>\n",
       "    <tr>\n",
       "      <td>LHR</td>\n",
       "      <td>88809.0</td>\n",
       "    </tr>\n",
       "    <tr>\n",
       "      <td>MCO</td>\n",
       "      <td>70930.0</td>\n",
       "    </tr>\n",
       "    <tr>\n",
       "      <td>LAX</td>\n",
       "      <td>70530.0</td>\n",
       "    </tr>\n",
       "    <tr>\n",
       "      <td>LAS</td>\n",
       "      <td>69630.0</td>\n",
       "    </tr>\n",
       "    <tr>\n",
       "      <td>JFK</td>\n",
       "      <td>66270.0</td>\n",
       "    </tr>\n",
       "    <tr>\n",
       "      <td>CDG</td>\n",
       "      <td>64490.0</td>\n",
       "    </tr>\n",
       "    <tr>\n",
       "      <td>BKK</td>\n",
       "      <td>59460.0</td>\n",
       "    </tr>\n",
       "    <tr>\n",
       "      <td>MIA</td>\n",
       "      <td>58150.0</td>\n",
       "    </tr>\n",
       "    <tr>\n",
       "      <td>SFO</td>\n",
       "      <td>58000.0</td>\n",
       "    </tr>\n",
       "    <tr>\n",
       "      <td>DXB</td>\n",
       "      <td>55590.0</td>\n",
       "    </tr>\n",
       "  </tbody>\n",
       "</table>\n",
       "</div>"
      ],
      "text/plain": [
       "              pax\n",
       "arr_port         \n",
       "LHR       88809.0\n",
       "MCO       70930.0\n",
       "LAX       70530.0\n",
       "LAS       69630.0\n",
       "JFK       66270.0\n",
       "CDG       64490.0\n",
       "BKK       59460.0\n",
       "MIA       58150.0\n",
       "SFO       58000.0\n",
       "DXB       55590.0"
      ]
     },
     "execution_count": 8,
     "metadata": {},
     "output_type": "execute_result"
    }
   ],
   "source": [
    "#Get 2 columns of interest\n",
    "dfbookreduced = dfbookings[['arr_port','pax']]\n",
    "#Group data by arr_port\n",
    "grouped_bookings = dfbookreduced.groupby('arr_port')\n",
    "#Sum pax, sort and show the first ten\n",
    "grouped_bookings.sum().sort_values(by='pax', ascending=False).head(10)"
   ]
  },
  {
   "cell_type": "markdown",
   "metadata": {},
   "source": [
    "### Ejercicio 3\n",
    "#### Plot the monthly number of searches for flights arriving at Málaga, Madrid or Barcelona\n",
    "\n",
    "For the arriving airport, you can use the Destination column in the searches file. \n",
    "Plot a curve for Málaga, another one for Madrid, and another one for Barcelona, in the same figure.\n",
    "\n",
    "Bonus point: Solving this problem using pandas (instead of any other approach)\n"
   ]
  },
  {
   "cell_type": "code",
   "execution_count": 49,
   "metadata": {
    "scrolled": true
   },
   "outputs": [
    {
     "name": "stderr",
     "output_type": "stream",
     "text": [
      "/home/angelrps/anaconda3/lib/python3.7/site-packages/ipykernel_launcher.py:4: SettingWithCopyWarning: \n",
      "A value is trying to be set on a copy of a slice from a DataFrame.\n",
      "Try using .loc[row_indexer,col_indexer] = value instead\n",
      "\n",
      "See the caveats in the documentation: http://pandas.pydata.org/pandas-docs/stable/user_guide/indexing.html#returning-a-view-versus-a-copy\n",
      "  after removing the cwd from sys.path.\n"
     ]
    }
   ],
   "source": [
    "#Take the 2 columns of interest\n",
    "dfs = dfsearches[['Date','Destination']]\n",
    "#remove 'day' from Date so it can be sorted by month\n",
    "dfs[\"Date\"] = dfs['Date'].str[:-3]"
   ]
  },
  {
   "cell_type": "code",
   "execution_count": 97,
   "metadata": {},
   "outputs": [],
   "source": [
    "#Retrieve Malaga values\n",
    "#Retrieve Madrid values\n",
    "#Retrieve Barcelona values\n",
    "dfsAGP = dfs.loc[dfs['Destination'] == 'AGP']\n",
    "dfsMAD = dfs.loc[dfs['Destination'] == 'MAD']\n",
    "dfsBCN = dfs.loc[dfs['Destination'] == 'BCN']\n",
    "\n",
    "# .value_counts() returns number of unique values for a particular column\n",
    "dfsAGPcount = dfsAGP['Date'].value_counts()\n",
    "dfsMADcount = dfsMAD['Date'].value_counts()\n",
    "dfsBCNcount = dfsBCN['Date'].value_counts()"
   ]
  },
  {
   "cell_type": "code",
   "execution_count": 95,
   "metadata": {},
   "outputs": [
    {
     "data": {
      "text/html": [
       "<div>\n",
       "<style scoped>\n",
       "    .dataframe tbody tr th:only-of-type {\n",
       "        vertical-align: middle;\n",
       "    }\n",
       "\n",
       "    .dataframe tbody tr th {\n",
       "        vertical-align: top;\n",
       "    }\n",
       "\n",
       "    .dataframe thead th {\n",
       "        text-align: right;\n",
       "    }\n",
       "</style>\n",
       "<table border=\"1\" class=\"dataframe\">\n",
       "  <thead>\n",
       "    <tr style=\"text-align: right;\">\n",
       "      <th></th>\n",
       "      <th>AGP</th>\n",
       "      <th>MAD</th>\n",
       "      <th>BCN</th>\n",
       "    </tr>\n",
       "  </thead>\n",
       "  <tbody>\n",
       "    <tr>\n",
       "      <td>2013-01</td>\n",
       "      <td>9633</td>\n",
       "      <td>24258</td>\n",
       "      <td>29469</td>\n",
       "    </tr>\n",
       "    <tr>\n",
       "      <td>2013-02</td>\n",
       "      <td>8379</td>\n",
       "      <td>22800</td>\n",
       "      <td>28329</td>\n",
       "    </tr>\n",
       "    <tr>\n",
       "      <td>2013-03</td>\n",
       "      <td>10659</td>\n",
       "      <td>24681</td>\n",
       "      <td>30552</td>\n",
       "    </tr>\n",
       "    <tr>\n",
       "      <td>2013-04</td>\n",
       "      <td>8265</td>\n",
       "      <td>25251</td>\n",
       "      <td>31236</td>\n",
       "    </tr>\n",
       "    <tr>\n",
       "      <td>2013-05</td>\n",
       "      <td>10830</td>\n",
       "      <td>26334</td>\n",
       "      <td>28728</td>\n",
       "    </tr>\n",
       "    <tr>\n",
       "      <td>2013-06</td>\n",
       "      <td>7923</td>\n",
       "      <td>22800</td>\n",
       "      <td>26505</td>\n",
       "    </tr>\n",
       "    <tr>\n",
       "      <td>2013-07</td>\n",
       "      <td>8892</td>\n",
       "      <td>22971</td>\n",
       "      <td>29241</td>\n",
       "    </tr>\n",
       "    <tr>\n",
       "      <td>2013-08</td>\n",
       "      <td>7866</td>\n",
       "      <td>21831</td>\n",
       "      <td>27075</td>\n",
       "    </tr>\n",
       "    <tr>\n",
       "      <td>2013-09</td>\n",
       "      <td>8151</td>\n",
       "      <td>21147</td>\n",
       "      <td>23427</td>\n",
       "    </tr>\n",
       "    <tr>\n",
       "      <td>2013-10</td>\n",
       "      <td>6499</td>\n",
       "      <td>22294</td>\n",
       "      <td>20276</td>\n",
       "    </tr>\n",
       "    <tr>\n",
       "      <td>2013-11</td>\n",
       "      <td>6384</td>\n",
       "      <td>20272</td>\n",
       "      <td>19824</td>\n",
       "    </tr>\n",
       "    <tr>\n",
       "      <td>2013-12</td>\n",
       "      <td>3696</td>\n",
       "      <td>14504</td>\n",
       "      <td>15400</td>\n",
       "    </tr>\n",
       "  </tbody>\n",
       "</table>\n",
       "</div>"
      ],
      "text/plain": [
       "           AGP    MAD    BCN\n",
       "2013-01   9633  24258  29469\n",
       "2013-02   8379  22800  28329\n",
       "2013-03  10659  24681  30552\n",
       "2013-04   8265  25251  31236\n",
       "2013-05  10830  26334  28728\n",
       "2013-06   7923  22800  26505\n",
       "2013-07   8892  22971  29241\n",
       "2013-08   7866  21831  27075\n",
       "2013-09   8151  21147  23427\n",
       "2013-10   6499  22294  20276\n",
       "2013-11   6384  20272  19824\n",
       "2013-12   3696  14504  15400"
      ]
     },
     "execution_count": 95,
     "metadata": {},
     "output_type": "execute_result"
    }
   ],
   "source": [
    "#Create cleaned and sorted Malaga data frame\n",
    "MADdata = pd.DataFrame({'DateCount' : dfsMADcount, 'Destination' : 'MAD'})\n",
    "MADdata.sort_index(inplace=True)\n",
    "#Create cleaned and sorted Madrid data frame\n",
    "AGPdata = pd.DataFrame({'DateCount' : dfsAGPcount, 'Destination' : 'AGP'})\n",
    "AGPdata.sort_index(inplace=True)\n",
    "#Create cleaned and sorted Barcelona data frame\n",
    "BCNdata = pd.DataFrame({'DateCount' : dfsBCNcount, 'Destination' : 'BCN'})\n",
    "BCNdata.sort_index(inplace=True)\n",
    "\n",
    "#Create final data frame from other 3 data frames\n",
    "FINALdata = pd.concat([AGPdata['DateCount'], MADdata['DateCount'], BCNdata['DateCount']], axis=1, keys=['AGP', 'MAD', 'BCN'])\n",
    "FINALdata"
   ]
  },
  {
   "cell_type": "code",
   "execution_count": 96,
   "metadata": {},
   "outputs": [
    {
     "data": {
      "text/plain": [
       "<matplotlib.axes._subplots.AxesSubplot at 0x7fd2b00702d0>"
      ]
     },
     "execution_count": 96,
     "metadata": {},
     "output_type": "execute_result"
    },
    {
     "data": {
      "image/png": "[encoded data removed]",
      "text/plain": [
       "<Figure size 432x288 with 1 Axes>"
      ]
     },
     "metadata": {
      "needs_background": "light"
     },
     "output_type": "display_data"
    }
   ],
   "source": [
    "#Plot final data\n",
    "FINALdata.plot()"
   ]
  },
  {
   "cell_type": "code",
   "execution_count": null,
   "metadata": {},
   "outputs": [],
   "source": []
  }
 ],
 "metadata": {
  "kernelspec": {
   "display_name": "Python 3",
   "language": "python",
   "name": "python3"
  },
  "language_info": {
   "codemirror_mode": {
    "name": "ipython",
    "version": 3
   },
   "file_extension": ".py",
   "mimetype": "text/x-python",
   "name": "python",
   "nbconvert_exporter": "python",
   "pygments_lexer": "ipython3",
   "version": "3.7.4"
  }
 },
 "nbformat": 4,
 "nbformat_minor": 2
}
