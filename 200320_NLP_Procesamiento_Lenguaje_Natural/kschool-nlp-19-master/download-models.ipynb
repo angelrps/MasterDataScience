{
 "cells": [
  {
   "cell_type": "markdown",
   "metadata": {
    "Collapsed": "false"
   },
   "source": [
    "# Download Models\n"
   ]
  },
  {
   "cell_type": "code",
   "execution_count": 1,
   "metadata": {},
   "outputs": [
    {
     "name": "stderr",
     "output_type": "stream",
     "text": [
      "[nltk_data] Downloading package brown to /home/angelrps/nltk_data...\n",
      "[nltk_data]   Unzipping corpora/brown.zip.\n",
      "[nltk_data] Downloading package cess_esp to\n",
      "[nltk_data]     /home/angelrps/nltk_data...\n",
      "[nltk_data]   Unzipping corpora/cess_esp.zip.\n"
     ]
    },
    {
     "data": {
      "text/plain": [
       "True"
      ]
     },
     "execution_count": 1,
     "metadata": {},
     "output_type": "execute_result"
    }
   ],
   "source": [
    "# NLTK tagged datasets\n",
    "\n",
    "import nltk\n",
    "\n",
    "nltk.download(\"brown\")\n",
    "nltk.download(\"cess_esp\")"
   ]
  },
  {
   "cell_type": "code",
   "execution_count": 2,
   "metadata": {},
   "outputs": [
    {
     "name": "stdout",
     "output_type": "stream",
     "text": [
      "/home/angelrps/anaconda3/bin/python: No module named spacy\n",
      "/home/angelrps/anaconda3/bin/python: No module named spacy\n"
     ]
    }
   ],
   "source": [
    "# spaCy models for EN and ES\n",
    "\n",
    "!python -m spacy download en_core_web_md\n",
    "!python -m spacy download es_core_news_md"
   ]
  },
  {
   "cell_type": "code",
   "execution_count": 3,
   "metadata": {
    "Collapsed": "false"
   },
   "outputs": [
    {
     "name": "stdout",
     "output_type": "stream",
     "text": [
      "--2020-03-20 10:59:16--  https://vitojph.keybase.pub/eswiki-300.tar.gz?dl=1\n",
      "Resolving vitojph.keybase.pub (vitojph.keybase.pub)... 52.202.57.167, 54.172.238.224, 54.237.96.187\n",
      "Connecting to vitojph.keybase.pub (vitojph.keybase.pub)|52.202.57.167|:443... connected.\n",
      "HTTP request sent, awaiting response... 200 OK\n",
      "Length: 1734033407 (1.6G) [application/gzip]\n",
      "Saving to: ‘eswiki-300.tar.gz’\n",
      "\n",
      "eswiki-300.tar.gz   100%[===================>]   1.61G  2.53MB/s    in 14m 32s \n",
      "\n",
      "2020-03-20 11:13:49 (1.90 MB/s) - ‘eswiki-300.tar.gz’ saved [1734033407/1734033407]\n",
      "\n"
     ]
    }
   ],
   "source": [
    "# word2vec embeddings for Spanish (computed from Spanish Wikipedia)\n",
    "![ -d data ] || mkdir data\n",
    "!cd data\n",
    "\n",
    "!wget -O eswiki-300.tar.gz https://vitojph.keybase.pub/eswiki-300.tar.gz?dl=1"
   ]
  },
  {
   "cell_type": "code",
   "execution_count": 4,
   "metadata": {
    "Collapsed": "false"
   },
   "outputs": [
    {
     "name": "stdout",
     "output_type": "stream",
     "text": [
      "--2020-03-20 11:13:49--  https://dl.fbaipublicfiles.com/fasttext/vectors-crawl/cc.en.300.vec.gz\n",
      "Resolving dl.fbaipublicfiles.com (dl.fbaipublicfiles.com)... 104.20.22.166, 104.20.6.166, 2606:4700:10::6814:16a6, ...\n",
      "Connecting to dl.fbaipublicfiles.com (dl.fbaipublicfiles.com)|104.20.22.166|:443... connected.\n",
      "HTTP request sent, awaiting response... 200 OK\n",
      "Length: 1325960915 (1.2G) [binary/octet-stream]\n",
      "Saving to: ‘cc.en.300.vec.gz’\n",
      "\n",
      "cc.en.300.vec.gz    100%[===================>]   1.23G  11.1MB/s    in 1m 57s  \n",
      "\n",
      "2020-03-20 11:15:48 (10.8 MB/s) - ‘cc.en.300.vec.gz’ saved [1325960915/1325960915]\n",
      "\n",
      "--2020-03-20 11:15:49--  https://dl.fbaipublicfiles.com/fasttext/vectors-crawl/cc.es.300.vec.gz\n",
      "Resolving dl.fbaipublicfiles.com (dl.fbaipublicfiles.com)... 104.20.6.166, 104.20.22.166, 2606:4700:10::6814:6a6, ...\n",
      "Connecting to dl.fbaipublicfiles.com (dl.fbaipublicfiles.com)|104.20.6.166|:443... connected.\n",
      "HTTP request sent, awaiting response... 200 OK\n",
      "Length: 1285580896 (1.2G) [binary/octet-stream]\n",
      "Saving to: ‘cc.es.300.vec.gz’\n",
      "\n",
      "cc.es.300.vec.gz    100%[===================>]   1.20G  11.0MB/s    in 2m 1s   \n",
      "\n",
      "2020-03-20 11:17:50 (10.1 MB/s) - ‘cc.es.300.vec.gz’ saved [1285580896/1285580896]\n",
      "\n"
     ]
    }
   ],
   "source": [
    "# fastText word vectors for English and Spanish\n",
    "![ -d data ] || mkdir data\n",
    "!cd data\n",
    "\n",
    "!wget https://dl.fbaipublicfiles.com/fasttext/vectors-crawl/cc.en.300.vec.gz\n",
    "!wget https://dl.fbaipublicfiles.com/fasttext/vectors-crawl/cc.es.300.vec.gz"
   ]
  },
  {
   "cell_type": "code",
   "execution_count": null,
   "metadata": {},
   "outputs": [],
   "source": []
  }
 ],
 "metadata": {
  "kernelspec": {
   "display_name": "Python 3",
   "language": "python",
   "name": "python3"
  },
  "language_info": {
   "codemirror_mode": {
    "name": "ipython",
    "version": 3
   },
   "file_extension": ".py",
   "mimetype": "text/x-python",
   "name": "python",
   "nbconvert_exporter": "python",
   "pygments_lexer": "ipython3",
   "version": "3.7.4"
  }
 },
 "nbformat": 4,
 "nbformat_minor": 4
}
