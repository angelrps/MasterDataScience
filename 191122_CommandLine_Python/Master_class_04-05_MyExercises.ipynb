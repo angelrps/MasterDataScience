{
 "cells": [
  {
   "cell_type": "markdown",
   "metadata": {},
   "source": [
    "#### Implement\ta\tfunction\tthat\ttakes\tas\tinput\tthree\tvariables,\tand\treturns\tthe\tlargest\tof\tthe\tthree.\t\tDo\tthis\twithout\tusing\tthe\tPython\tmax()\tfunction!\tMake\tone\tversion\twithout\tany\tlocal\tvariable\tand\tanother\twith\tone\tlocal\tvariable.\t(hint:\tit\tmight\tbe\teasier\tto\tuse\tedit) "
   ]
  },
  {
   "cell_type": "code",
   "execution_count": 1,
   "metadata": {},
   "outputs": [],
   "source": [
    "def largest(a, b, c):\n",
    "    if a > b and a > c:\n",
    "        return a\n",
    "    if b > a and b > c:\n",
    "        return b\n",
    "    if c > a and c > b:\n",
    "        return c"
   ]
  },
  {
   "cell_type": "code",
   "execution_count": 3,
   "metadata": {},
   "outputs": [
    {
     "data": {
      "text/plain": [
       "7"
      ]
     },
     "execution_count": 3,
     "metadata": {},
     "output_type": "execute_result"
    }
   ],
   "source": [
    "largest(4, 7, 1)"
   ]
  },
  {
   "cell_type": "markdown",
   "metadata": {},
   "source": [
    "#### 2. Write\ta\tfunction\t“centenario”\tthat\twill\ttake\tName,\tand\tyear\tof\tbirth\t\tas\tinputs,\tcheck\tif\tyear\tof\tbirth\tis\tintand\tcast\tit\tto\tintif\tnot,\tand\tprint\tname\ttogether\twith\tthe\ttext\texplaining\twhen\tthe\tperson\tis\tto\thave\t100\tyears\t(hint:\tuse\tisinstance).\n",
    "\n",
    "call\tto\tfunction:\tcentenario(Antonio,\t1967).\n",
    "output:\tAntonio\twill\treach\t100\tyears\tin\t2067"
   ]
  },
  {
   "cell_type": "code",
   "execution_count": 4,
   "metadata": {},
   "outputs": [],
   "source": [
    "def centenario(name, birthyear):\n",
    "        intbirthyear = int(birthyear)\n",
    "        newyear = 2019 + (100 - (2019-intbirthyear))\n",
    "        print(\"%s will reach 100 years in %d\" %(name, newyear))\n"
   ]
  },
  {
   "cell_type": "code",
   "execution_count": 5,
   "metadata": {},
   "outputs": [
    {
     "name": "stdout",
     "output_type": "stream",
     "text": [
      "Fulanito will reach 100 years in 2082\n"
     ]
    }
   ],
   "source": [
    "centenario (\"Fulanito\", 1982)"
   ]
  },
  {
   "cell_type": "markdown",
   "metadata": {},
   "source": [
    "#### Write a function to calculate the number of words, number of lines, and length of a string the same way the wc command does in the command line"
   ]
  },
  {
   "cell_type": "code",
   "execution_count": 6,
   "metadata": {},
   "outputs": [],
   "source": [
    "def calculate(mystring):\n",
    "    characters = len(mystring)\n",
    "    words = len(mystring.split())\n",
    "    lines = len(mystring.splitlines())\n",
    "    return characters, words, lines"
   ]
  },
  {
   "cell_type": "code",
   "execution_count": 7,
   "metadata": {},
   "outputs": [
    {
     "data": {
      "text/plain": [
       "(38, 7, 3)"
      ]
     },
     "execution_count": 7,
     "metadata": {},
     "output_type": "execute_result"
    }
   ],
   "source": [
    "calculate(\"esto son\\ntres\\n lineas y siete palabras\")"
   ]
  },
  {
   "cell_type": "markdown",
   "metadata": {},
   "source": [
    "#### Write a Python program to remove the nth index character from a string. If the input string is empty print warning."
   ]
  },
  {
   "cell_type": "code",
   "execution_count": 15,
   "metadata": {},
   "outputs": [],
   "source": [
    "def removeIndex(n, mystring):\n",
    "    if mystring == \"\":\n",
    "        print(\"Warning!\")\n",
    "    else:\n",
    "        print (mystring[:n] + mystring[n+1:])"
   ]
  },
  {
   "cell_type": "code",
   "execution_count": 18,
   "metadata": {},
   "outputs": [
    {
     "name": "stdout",
     "output_type": "stream",
     "text": [
      "Esto unciona\n"
     ]
    }
   ],
   "source": [
    "removeIndex(5, \"Esto funciona\")"
   ]
  },
  {
   "cell_type": "markdown",
   "metadata": {},
   "source": [
    "#### While\tinside\tpython,\tgo\tto\t~/Data/opentraveldata/\tand\tlist\tthe\tfiles.\tRepeat\tthe\tsame\tfor\t\t\t/home/dsc/Data/us_dot/otpand\t~/Data/us_dot/traffic/.\tUse\tthe\tlist\tof\tvisited\tdirectories\tfrom\tdhistand\twrite\tfor\tloop\twhich\twill\treturn\tfor\teach\tvisited\tdirectory\tits\tname\tand\tnumber\tof\tfiles\tinside."
   ]
  },
  {
   "cell_type": "code",
   "execution_count": 25,
   "metadata": {},
   "outputs": [
    {
     "name": "stdout",
     "output_type": "stream",
     "text": [
      "/home/angelrps/git/DS_CL_files/opentraveldata\n"
     ]
    }
   ],
   "source": [
    "%cd ../../DS_CL_files/opentraveldata/"
   ]
  },
  {
   "cell_type": "code",
   "execution_count": 27,
   "metadata": {},
   "outputs": [
    {
     "name": "stdout",
     "output_type": "stream",
     "text": [
      "total 8028\r\n",
      "-rw-rw-rw- 1 angelrps angelrps   18612 Nov 29 13:28 optd_aircraft.csv\r\n",
      "-rw-rw-rw- 1 angelrps angelrps     460 Dec 11 10:46 optd_aircraft_10.csv\r\n",
      "-rw-rw-rw- 1 angelrps angelrps    1581 Dec 11 11:11 optd_aircraft_new_format.csv\r\n",
      "-rw-rw-rw- 1 angelrps angelrps  107306 Nov 29 13:28 optd_airlines.csv\r\n",
      "-rw-rw-rw- 1 angelrps angelrps 8080005 Nov 29 13:28 optd_por_public.csv\r\n"
     ]
    }
   ],
   "source": [
    "%ls -l"
   ]
  },
  {
   "cell_type": "code",
   "execution_count": 28,
   "metadata": {},
   "outputs": [
    {
     "name": "stdout",
     "output_type": "stream",
     "text": [
      "/home/angelrps/git/DS_CL_files/shell\n"
     ]
    }
   ],
   "source": [
    "%cd ../shell/"
   ]
  },
  {
   "cell_type": "code",
   "execution_count": 29,
   "metadata": {
    "scrolled": true
   },
   "outputs": [
    {
     "name": "stdout",
     "output_type": "stream",
     "text": [
      "total 616\r\n",
      "-rw-rw-rw- 1 angelrps angelrps 627563 Nov 29 13:28 Finn.txt\r\n",
      "-rw-rw-rw- 1 angelrps angelrps    237 Nov 29 13:28 Text_example.txt\r\n",
      "-rw-rw-rw- 1 angelrps angelrps    237 Nov 29 13:28 Text_example.txt.copy\r\n"
     ]
    }
   ],
   "source": [
    "%ls -l"
   ]
  },
  {
   "cell_type": "code",
   "execution_count": 33,
   "metadata": {},
   "outputs": [
    {
     "name": "stdout",
     "output_type": "stream",
     "text": [
      "Directory history (kept in _dh)\n",
      "0: /home/angelrps/git/MasterDataScience/191122_CommandLine_Python\n",
      "1: /home/angelrps/git/DS_CL_files/opentraveldata\n",
      "2: /home/angelrps/git/DS_CL_files/shell\n"
     ]
    }
   ],
   "source": [
    "%dhist"
   ]
  },
  {
   "cell_type": "code",
   "execution_count": 49,
   "metadata": {},
   "outputs": [
    {
     "name": "stdout",
     "output_type": "stream",
     "text": [
      "/home/angelrps/git/MasterDataScience/191122_CommandLine_Python 3\n",
      "/home/angelrps/git/DS_CL_files/opentraveldata 3\n",
      "/home/angelrps/git/DS_CL_files/shell 3\n"
     ]
    }
   ],
   "source": [
    "for i in _dh:\n",
    "    wc = !(ls -l $i| wc -l)\n",
    "    print(i, int(wc[0])-1)"
   ]
  },
  {
   "cell_type": "code",
   "execution_count": null,
   "metadata": {},
   "outputs": [],
   "source": []
  },
  {
   "cell_type": "markdown",
   "metadata": {},
   "source": [
    "#### Write\ta\tfunction\tthat\twill\ttake\ttext\tfile\tand\tpattern\tas\tinput\tparameters,\tand\treturn\tthe\tnumber\tof\toccurancesof\tcase\tinsensitive\tpattern\tinside\ta\ttext\t(similar\tto:\tgrep\t-i–o\tpattern\tfile\t|\twc-l)"
   ]
  },
  {
   "cell_type": "markdown",
   "metadata": {},
   "source": [
    "#### Open\tFinn.txt\t\tfile,\tread\tlines\tinto\ta\tlist.\t\tRemove\ttrailing\twhite\tspaces\tfrom\teach\tline\t.\tWrite\tthe\tresulting\tlist\tto\tthe\tnew\tfile.\tHow\tmany\tlines\tdoes\tthe\tnew\tfile\thave?\t\t(hint:\tempty\tlist\tis\tmade\twith\t[\t]\t)"
   ]
  },
  {
   "cell_type": "markdown",
   "metadata": {},
   "source": [
    "#### Open\tFinn.txt\t\tfile,\tread\tlines\tinto\ta\tlist.\tCreate\ta\tnew\tversion\tof\tFinn_nbl.txt\twith\tno\tblank\tlines."
   ]
  },
  {
   "cell_type": "markdown",
   "metadata": {},
   "source": [
    "#### Reset\tthe\tworkspace.\tObtain\tthe\tdifference\tin\tnumber\tof\tlines\tbetween\toriginal\tFinn\tfile\tand\tand the\tone\twithout\tblank\tlines\t\tand\tprint\tthe\tresult.\t(hint:\tuse\twc)"
   ]
  },
  {
   "cell_type": "markdown",
   "metadata": {},
   "source": [
    "#### For\ta\tsequence\t[1,\t2,\t3,\t4,\t5,\t6,\t7,\t8\t]\tget\tthe\tsquared\tvalues\tusing\tthe\tlambda\tfunction. "
   ]
  },
  {
   "cell_type": "code",
   "execution_count": 61,
   "metadata": {},
   "outputs": [],
   "source": [
    "def square (x):\n",
    "    for i in x:\n",
    "        print(i**2)"
   ]
  },
  {
   "cell_type": "code",
   "execution_count": 62,
   "metadata": {},
   "outputs": [
    {
     "name": "stdout",
     "output_type": "stream",
     "text": [
      "<map object at 0x7f93b7bb1890>\n"
     ]
    }
   ],
   "source": [
    "sequence =  [1, 2, 3, 4, 5, 6, 7, 8 ]\n",
    "result = map (lambda x: x**2,sequence)\n",
    "print(result)"
   ]
  },
  {
   "cell_type": "code",
   "execution_count": 63,
   "metadata": {},
   "outputs": [
    {
     "name": "stdout",
     "output_type": "stream",
     "text": [
      "1\n",
      "4\n",
      "9\n",
      "16\n",
      "25\n",
      "36\n",
      "49\n",
      "64\n"
     ]
    }
   ],
   "source": [
    "square(sequence)\n"
   ]
  },
  {
   "cell_type": "markdown",
   "metadata": {},
   "source": [
    "#### Prepare a list with 10 names. Make a code that will put all vowels to capitals and every other character to lower letters"
   ]
  },
  {
   "cell_type": "code",
   "execution_count": 92,
   "metadata": {},
   "outputs": [],
   "source": [
    "names = [\"marcos\", \"pepe\", \"ANTONIO\", \"jesus\", \"arturo\", \"maria\", \"josefa\", \"belen\", \"angel\", \"jorge\"]"
   ]
  },
  {
   "cell_type": "code",
   "execution_count": 95,
   "metadata": {},
   "outputs": [],
   "source": [
    "def capitalizeVowel(name):\n",
    "    newname =\"\"\n",
    "    for c in name:\n",
    "        if c in \"aeiouAEIOU\":\n",
    "            newname = newname + c.upper()\n",
    "        else:\n",
    "            newname = newname + c.lower()\n",
    "    print (newname)"
   ]
  },
  {
   "cell_type": "code",
   "execution_count": 96,
   "metadata": {},
   "outputs": [
    {
     "name": "stdout",
     "output_type": "stream",
     "text": [
      "mArcOs\n",
      "pEpE\n",
      "AntOnIO\n",
      "jEsUs\n",
      "ArtUrO\n",
      "mArIA\n",
      "jOsEfA\n",
      "bElEn\n",
      "AngEl\n",
      "jOrgE\n"
     ]
    }
   ],
   "source": [
    "for n in names:\n",
    "    capitalizeVowel(n)"
   ]
  },
  {
   "cell_type": "markdown",
   "metadata": {},
   "source": [
    "#### Prepare\tagain\ta\tlist\twith\t10\tnames.\tMake\ta\tfunction\twith\ttwo\tinput\tvariables:\tlist,\tand\tcharacter;\tthat\treturns\ta\tlist\tof\tnames\tcontaining\tone\tor\tmore\tof\tinput\tcharacters\t’s\tinside\tthe\tname.\t\t4"
   ]
  },
  {
   "cell_type": "code",
   "execution_count": 98,
   "metadata": {},
   "outputs": [],
   "source": [
    "names2 = [\"marcos\", \"pepe\", \"ANTONIO\", \"jesus\", \"arturo\", \"maria\", \"josefa\", \"belen\", \"angel\", \"jorge\"]"
   ]
  },
  {
   "cell_type": "code",
   "execution_count": 101,
   "metadata": {},
   "outputs": [],
   "source": [
    "def namecontain(namelist, char):\n",
    "    result = []\n",
    "    for name in namelist:\n",
    "        if char in name:\n",
    "            result.append(name)\n",
    "    return result"
   ]
  },
  {
   "cell_type": "code",
   "execution_count": 105,
   "metadata": {},
   "outputs": [
    {
     "data": {
      "text/plain": [
       "['jesus', 'josefa', 'jorge']"
      ]
     },
     "execution_count": 105,
     "metadata": {},
     "output_type": "execute_result"
    }
   ],
   "source": [
    "namecontain(names2, \"j\")"
   ]
  },
  {
   "cell_type": "markdown",
   "metadata": {},
   "source": [
    "#### Reverse\tword\torder\tfrom\tthe\tinput\tstring"
   ]
  },
  {
   "cell_type": "code",
   "execution_count": 165,
   "metadata": {},
   "outputs": [],
   "source": [
    "def reverseorder(sentence):\n",
    "    r = \" \".join(reversed(sentence.split()))\n",
    "\n",
    "    return r"
   ]
  },
  {
   "cell_type": "code",
   "execution_count": 166,
   "metadata": {},
   "outputs": [
    {
     "data": {
      "text/plain": [
       "'palabra'"
      ]
     },
     "execution_count": 166,
     "metadata": {},
     "output_type": "execute_result"
    }
   ],
   "source": [
    "reverseorder(\"palabra\")"
   ]
  },
  {
   "cell_type": "code",
   "execution_count": 167,
   "metadata": {},
   "outputs": [
    {
     "data": {
      "text/plain": [
       "'sentido solo un en palabra'"
      ]
     },
     "execution_count": 167,
     "metadata": {},
     "output_type": "execute_result"
    }
   ],
   "source": [
    "reverseorder(\"palabra en un solo sentido\")"
   ]
  },
  {
   "cell_type": "markdown",
   "metadata": {},
   "source": [
    "#### Write\ta\tPython\tfunction\tthat\ttakes\ta\tlist\tof\twords\tand\treturns\tthe\tlength\tof\tthe\tlongest\tone."
   ]
  },
  {
   "cell_type": "code",
   "execution_count": 173,
   "metadata": {},
   "outputs": [],
   "source": [
    "words = [\"federico\", \"flauta\", \"americano\", \"ordenadorrrrrrr\", \"raton\", \"bu\"]"
   ]
  },
  {
   "cell_type": "code",
   "execution_count": 174,
   "metadata": {},
   "outputs": [],
   "source": [
    "def longest(mylist):\n",
    "    result = \"\"\n",
    "    for w in mylist:\n",
    "        if len(w) > len(result):\n",
    "            result = w\n",
    "    return result"
   ]
  },
  {
   "cell_type": "code",
   "execution_count": 175,
   "metadata": {},
   "outputs": [
    {
     "data": {
      "text/plain": [
       "'ordenadorrrrrrr'"
      ]
     },
     "execution_count": 175,
     "metadata": {},
     "output_type": "execute_result"
    }
   ],
   "source": [
    "longest(words)"
   ]
  }
 ],
 "metadata": {
  "kernelspec": {
   "display_name": "Python 3",
   "language": "python",
   "name": "python3"
  },
  "language_info": {
   "codemirror_mode": {
    "name": "ipython",
    "version": 3
   },
   "file_extension": ".py",
   "mimetype": "text/x-python",
   "name": "python",
   "nbconvert_exporter": "python",
   "pygments_lexer": "ipython3",
   "version": "3.7.4"
  }
 },
 "nbformat": 4,
 "nbformat_minor": 2
}
